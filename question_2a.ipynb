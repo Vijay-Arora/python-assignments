{
 "cells": [
  {
   "cell_type": "markdown",
   "metadata": {},
   "source": [
    "### Importing required packages"
   ]
  },
  {
   "cell_type": "code",
   "execution_count": 58,
   "metadata": {},
   "outputs": [],
   "source": [
    "import numpy as np"
   ]
  },
  {
   "cell_type": "markdown",
   "metadata": {},
   "source": [
    "### Function for input selection"
   ]
  },
  {
   "cell_type": "code",
   "execution_count": 59,
   "metadata": {},
   "outputs": [],
   "source": [
    "def input_selection(x):\n",
    "    if (x==1):\n",
    "        b = np.array([[9,2,1,1],\n",
    "                 [0,8,2,3],\n",
    "                 [1,0,5,2],\n",
    "                [1,0,3,7]],float)\n",
    "        n=len(b)\n",
    "        print(\"input \\n\",b,\"\\n\\n\",\"length : \",n,\"\\n\")\n",
    "        return b,n\n",
    "    elif (x==2):\n",
    "        b = np.array([[2,1,1,9],\n",
    "                 [0,8,2,3],\n",
    "                 [1,0,5,2],\n",
    "                [7,0,3,1]],float)\n",
    "        n=len(b)\n",
    "        print(\"input \\n\",b,\"\\n\\n\",\"length : \",n,\"\\n\")\n",
    "        return b,n\n",
    "    elif(x==3):\n",
    "        b = np.array([[2,1,1,9],\n",
    "                 [0,8,2,3],\n",
    "                 [1,0,5,2],\n",
    "                [2,0,3,7]],float)\n",
    "        n=len(b)\n",
    "        print(\"input \\n\",b,\"\\n\\n\",\"length : \",n,\"\\n\")\n",
    "        return b,n"
   ]
  },
  {
   "cell_type": "markdown",
   "metadata": {},
   "source": [
    "### Function to check if the matrix is Diagonally Dominant"
   ]
  },
  {
   "cell_type": "code",
   "execution_count": 60,
   "metadata": {},
   "outputs": [],
   "source": [
    "def isDDM(b,n):\n",
    "    flag = True\n",
    "    for i in range (n):\n",
    "        x,sumD=0,0\n",
    "        for j in range(n):\n",
    "            if(i!=j):\n",
    "                sumD+=abs(b[i][j])\n",
    "        print(\"\\n Sum without diagonal element for row {0} : {1}\".format(i+1,sumD)) \n",
    "        x=b[i][i]\n",
    "        print(\"\\n Diagonal element for row {0}: {1}\".format(i+1,abs(x)))\n",
    "        if (abs(x)>abs(sumD)):\n",
    "            flag = True\n",
    "        else:\n",
    "            flag = False\n",
    "            return flag\n",
    "    return flag"
   ]
  },
  {
   "cell_type": "markdown",
   "metadata": {},
   "source": [
    "### Function to check if the matrix can be made Diagonally Dominant"
   ]
  },
  {
   "cell_type": "code",
   "execution_count": 61,
   "metadata": {},
   "outputs": [],
   "source": [
    "def canbeDDM(b,n):\n",
    "    a=np.zeros((n,n),float)\n",
    "    for i in range(n):\n",
    "        x,sumD=0,0\n",
    "        for j in range(n):\n",
    "            sumD+=abs(b[i][j])  \n",
    "            \n",
    "        for k in range(n):\n",
    "            sumD-=abs(b[i][k])\n",
    "            if(abs(b[i][k])>sumD):\n",
    "                a[i][k]=1\n",
    "                sumD+=abs(b[i][k])\n",
    "            else:\n",
    "                a[i][k]=0\n",
    "                sumD+=abs(b[i][k])\n",
    "    \n",
    "    print(\"\\n Resultant Vector \\n\",a)\n",
    "    for i in range (n):\n",
    "        col_sum=0\n",
    "        for j in range(n):\n",
    "            col_sum+=a[j][i]\n",
    "        \n",
    "        if(col_sum!=1):\n",
    "            return \"\\n ------------ \\n Matrix cannot be made diagonally dominant as column sum for column {} is {}\".format(i+1,col_sum)\n",
    "        \n",
    "    return \"\\n ------------ \\n Matrix can be made diagonally dominant\""
   ]
  },
  {
   "cell_type": "markdown",
   "metadata": {},
   "source": [
    "### Driver Code"
   ]
  },
  {
   "cell_type": "code",
   "execution_count": 62,
   "metadata": {},
   "outputs": [
    {
     "name": "stdout",
     "output_type": "stream",
     "text": [
      "You can only enter size as 4 for this question but I used this so that it can be made variable in future \n",
      "\n",
      "4\n",
      "\n",
      "Enter 1 for running program with diagonally dominant matrix as input.\n",
      "Enter 2 for running program with diagonally non-dominant matrix which can be converted into DDM as input. \n",
      "Enter 3 for running program with diagonally non-dominant matrix which cannot be converted into DDM as input.\n",
      "Note : Any other input will be considered invalid \n",
      "\n",
      "3\n",
      "input \n",
      " [[2. 1. 1. 9.]\n",
      " [0. 8. 2. 3.]\n",
      " [1. 0. 5. 2.]\n",
      " [2. 0. 3. 7.]] \n",
      "\n",
      " length :  4 \n",
      "\n",
      "\n",
      " Sum without diagonal element for row 1 : 11.0\n",
      "\n",
      " Diagonal element for row 1: 2.0\n",
      "\n",
      " Resultant Vector \n",
      " [[0. 0. 0. 1.]\n",
      " [0. 1. 0. 0.]\n",
      " [0. 0. 1. 0.]\n",
      " [0. 0. 0. 1.]]\n",
      "\n",
      " ------------ \n",
      " Matrix cannot be made diagonally dominant as column sum for column 1 is 0.0\n"
     ]
    }
   ],
   "source": [
    "size = int(input(\"You can only enter size as 4 for this question but I used this so that it can be made variable in future \\n\\n\"))\n",
    "\n",
    "matrix = np.zeros((size,size),float)\n",
    "\n",
    "option = int(input('''\\nEnter 1 for running program with diagonally dominant matrix as input.\n",
    "Enter 2 for running program with diagonally non-dominant matrix which can be converted into DDM as input. \n",
    "Enter 3 for running program with diagonally non-dominant matrix which cannot be converted into DDM as input.\n",
    "Note : Any other input will be considered invalid \\n\\n'''))\n",
    "\n",
    "input_matrix,size = input_selection(option)\n",
    "\n",
    "ddm_flag = isDDM(input_matrix,size)\n",
    "if(ddm_flag==False):\n",
    "    if_ddm = canbeDDM(input_matrix,size)\n",
    "    print(if_ddm)\n",
    "else:\n",
    "    print(\"\\n --------------- \\n Matrix is diagonally dominant \")"
   ]
  },
  {
   "cell_type": "code",
   "execution_count": null,
   "metadata": {},
   "outputs": [],
   "source": []
  }
 ],
 "metadata": {
  "kernelspec": {
   "display_name": "Python 3",
   "language": "python",
   "name": "python3"
  },
  "language_info": {
   "codemirror_mode": {
    "name": "ipython",
    "version": 3
   },
   "file_extension": ".py",
   "mimetype": "text/x-python",
   "name": "python",
   "nbconvert_exporter": "python",
   "pygments_lexer": "ipython3",
   "version": "3.7.4"
  }
 },
 "nbformat": 4,
 "nbformat_minor": 2
}
