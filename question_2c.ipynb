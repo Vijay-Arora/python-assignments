{
 "cells": [
  {
   "cell_type": "code",
   "execution_count": 7,
   "metadata": {},
   "outputs": [],
   "source": [
    "import numpy as np\n",
    "from numpy import linalg\n",
    "from math import *\n",
    "from random import *"
   ]
  },
  {
   "cell_type": "code",
   "execution_count": 203,
   "metadata": {},
   "outputs": [],
   "source": [
    "def isDDM(b,n):\n",
    "    flag = True\n",
    "    for i in range (n):\n",
    "        x,sumD=0,0\n",
    "        for j in range(n):\n",
    "            if(i!=j):\n",
    "                sumD+=abs(b[i][j])\n",
    "        print(\"\\n Sum with diagonal element for {0} : {1}\".format(i,sumD)) \n",
    "        x=b[i][i]\n",
    "        print(\"\\n diagonal element for {0}: {1}\".format(i,abs(x)))\n",
    "        if (abs(x)>abs(sumD)):\n",
    "            flag = True\n",
    "        else:\n",
    "            flag = False\n",
    "            return flag\n",
    "    return flag"
   ]
  },
  {
   "cell_type": "code",
   "execution_count": 202,
   "metadata": {},
   "outputs": [],
   "source": [
    "def canbeDDM(b,n):\n",
    "    for i in range(n):\n",
    "        x,sumD=0,0\n",
    "        for j in range(n):\n",
    "            sumD+=abs(b[i][j])  \n",
    "            \n",
    "        for k in range(n):\n",
    "            sumD-=abs(b[i][k])\n",
    "            if(abs(b[i][k])>sumD):\n",
    "                a[i][k]=1\n",
    "            else:\n",
    "                a[i][k]=0\n",
    "    for i in range (n):\n",
    "        for j in range(n):\n",
    "            sum+=a[j][i]\n",
    "        \n",
    "        if(sum!=1):\n",
    "            return \"Cannot be made diagonally dominant\"\n",
    "        \n",
    "    return \"Can be made diagonally dominant\""
   ]
  },
  {
   "cell_type": "code",
   "execution_count": 2,
   "metadata": {},
   "outputs": [],
   "source": [
    "def calculate_iteration_matrix(b,n):\n",
    "    for i in range(n):\n",
    "        x=b[i][i]\n",
    "        for j in range(n):\n",
    "            b[i][j]=b[i][j]/x\n",
    "            \n",
    "    L = np.zeros(shape=(n,n),dtype=float)\n",
    "    U = np.zeros(shape=(n,n),dtype=float)\n",
    "    for i in range(n):\n",
    "        for j in range(n):\n",
    "            if j<i:\n",
    "                L[i][j]=b[i][j]\n",
    "            if j>i:\n",
    "                U[i][j]=b[i][j]\n",
    "                \n",
    "    L_U = np.add(L,U)\n",
    "    L_U = L_U*-1\n",
    "    print (\"L :\\t\",L,\"\\n\")\n",
    "    print (\"U:\\t\",U,\"\\n\")\n",
    "    print(\"Iteration matrix:\\n\",L_U,\"\\n\")\n",
    "    return L_U"
   ]
  },
  {
   "cell_type": "code",
   "execution_count": 3,
   "metadata": {},
   "outputs": [],
   "source": [
    "def calculate_norm(L_U):\n",
    "    print(\"supermum norm \\t\\t\",np.linalg.norm(L_U,np.inf))\n",
    "    print(\"l2 norm \\t\\t\",np.linalg.norm(L_U,'fro'))\n",
    "    print(\"l1 norm \\t\\t\",np.linalg.norm(L_U,1))"
   ]
  },
  {
   "cell_type": "code",
   "execution_count": null,
   "metadata": {},
   "outputs": [],
   "source": [
    "# a = np.array([[9,2,9,7],\n",
    "#          [3,8,4,6],\n",
    "#          [5,8,8,5],\n",
    "#         [2,6,7,9]],float)\n",
    "# b = np.copy(a)"
   ]
  },
  {
   "cell_type": "code",
   "execution_count": null,
   "metadata": {},
   "outputs": [],
   "source": [
    "# a = np.array([[5,-1,3],\n",
    "#          [2,-8,1],\n",
    "#          [-2,0,4]],float)\n",
    "# b = np.copy(a)"
   ]
  },
  {
   "cell_type": "code",
   "execution_count": null,
   "metadata": {},
   "outputs": [],
   "source": [
    "# a = np.array([[4,2,-2],\n",
    "#          [0,4,2],\n",
    "#          [1,0,4]],float)\n",
    "# b = np.copy(a)"
   ]
  },
  {
   "cell_type": "code",
   "execution_count": null,
   "metadata": {},
   "outputs": [],
   "source": [
    "# #DDM\n",
    "# a = np.array([[4,2,1],\n",
    "#          [0,4,2],\n",
    "#          [1,0,4]],float)\n",
    "# b = np.copy(a)"
   ]
  },
  {
   "cell_type": "code",
   "execution_count": 207,
   "metadata": {},
   "outputs": [
    {
     "name": "stdout",
     "output_type": "stream",
     "text": [
      "input \n",
      " [[9. 2. 1. 1.]\n",
      " [0. 8. 2. 3.]\n",
      " [1. 0. 5. 2.]\n",
      " [1. 0. 3. 7.]] \n",
      "\n"
     ]
    }
   ],
   "source": [
    "#DDM\n",
    "a = np.array([[9,2,1,1],\n",
    "         [0,8,2,3],\n",
    "         [1,0,5,2],\n",
    "        [1,0,3,7]],float)\n",
    "b = np.copy(a)\n",
    "print(\"input \\n\",b,\"\\n\")"
   ]
  },
  {
   "cell_type": "code",
   "execution_count": null,
   "metadata": {},
   "outputs": [],
   "source": [
    "# a = np.array([[1,-5],\n",
    "#          [7,-1]],float)\n",
    "# b = np.copy(a)"
   ]
  },
  {
   "cell_type": "code",
   "execution_count": 208,
   "metadata": {},
   "outputs": [],
   "source": [
    "n = 4\n",
    "flag = False\n",
    "m_flag = False\n",
    "L_U = np.zeros(shape=(n,n),dtype=float)\n",
    "# matrix = np.zeros(shape=(n,n),dtype=float)"
   ]
  },
  {
   "cell_type": "code",
   "execution_count": 161,
   "metadata": {},
   "outputs": [],
   "source": [
    "a = np.random.randint(-10,10,(n,n))\n",
    "a = np.array(a,dtype=float)\n",
    "b = np.copy(a)"
   ]
  },
  {
   "cell_type": "code",
   "execution_count": 209,
   "metadata": {},
   "outputs": [
    {
     "name": "stdout",
     "output_type": "stream",
     "text": [
      "input :\t [[9. 2. 1. 1.]\n",
      " [0. 8. 2. 3.]\n",
      " [1. 0. 5. 2.]\n",
      " [1. 0. 3. 7.]] \n",
      "\n",
      "\n",
      " Sum with diagonal element for 0 : 4.0\n",
      "\n",
      " diagonal element for 0: 9.0\n",
      "\n",
      " Sum with diagonal element for 1 : 5.0\n",
      "\n",
      " diagonal element for 1: 8.0\n",
      "\n",
      " Sum with diagonal element for 2 : 3.0\n",
      "\n",
      " diagonal element for 2: 5.0\n",
      "\n",
      " Sum with diagonal element for 3 : 4.0\n",
      "\n",
      " diagonal element for 3: 7.0\n",
      "True \n",
      "\n",
      "L :\t [[0.         0.         0.         0.        ]\n",
      " [0.         0.         0.         0.        ]\n",
      " [0.2        0.         0.         0.        ]\n",
      " [0.14285714 0.         0.42857143 0.        ]] \n",
      "\n",
      "U:\t [[0.         0.22222222 0.11111111 0.11111111]\n",
      " [0.         0.         0.25       0.375     ]\n",
      " [0.         0.         0.         0.4       ]\n",
      " [0.         0.         0.         0.        ]] \n",
      "\n",
      "Iteration matrix:\n",
      " [[-0.         -0.22222222 -0.11111111 -0.11111111]\n",
      " [-0.         -0.         -0.25       -0.375     ]\n",
      " [-0.2        -0.         -0.         -0.4       ]\n",
      " [-0.14285714 -0.         -0.42857143 -0.        ]] \n",
      "\n",
      "supermum norm \t\t 0.625\n",
      "l2 norm \t\t 0.8253973023502896\n",
      "l1 norm \t\t 0.8861111111111111\n"
     ]
    }
   ],
   "source": [
    "# matrix,m_flag = random_matrix(n)\n",
    "print(\"input :\\t\",b,\"\\n\")\n",
    "flag = isDDM(b,n)\n",
    "print (flag,\"\\n\")\n",
    "if(flag):\n",
    "    L_U = calculate_iteration_matrix(b,n)\n",
    "    calculate_norm(L_U)\n",
    "else:\n",
    "    print(\"Need to run again as all the random matrices were non diagonal dominant\")"
   ]
  },
  {
   "cell_type": "code",
   "execution_count": 5,
   "metadata": {},
   "outputs": [],
   "source": [
    "def generateRandomMatrix(N):\n",
    "    matrix = np.float_(np.random.randint(1,50, size=(N, N)))\n",
    "    for i in range(matrix.shape[0]):\n",
    "        row  = matrix[i].copy()\n",
    "        row_sum = sum(row)\n",
    "        if random()>0.65:\n",
    "            matrix[i,i] = row_sum+np.random.randint(5)\n",
    "#     input_matrix = np.zeros(shape=(N,N), dtype=float)\n",
    "#     augmented_matrix_list = list()\n",
    "#     for row in range(0,N):\n",
    "#         for col in range (0,N):\n",
    "#             input_matrix[row][col] = np.random.randint(0,9)\n",
    "#     b_vector = np.zeros(N)\n",
    "#     for i in range(N):\n",
    "#         b_vector[i]  = np.random.randint(0,9)\n",
    "#     print(\"input A : \\n {0} \\n b_vector : \\n {1} \\n\".format(matrix,b_vector))\n",
    "    print(\"input A : \\n {0}\\n\".format(matrix))\n",
    "    return matrix"
   ]
  },
  {
   "cell_type": "code",
   "execution_count": 18,
   "metadata": {},
   "outputs": [
    {
     "name": "stdout",
     "output_type": "stream",
     "text": [
      "input A : \n",
      " [[ 44.  20.  39.  21.]\n",
      " [ 29. 129.  32.  45.]\n",
      " [ 15.   5.  38.   7.]\n",
      " [ 33.  48.  44. 133.]]\n",
      "\n",
      "L :\t [[0.         0.         0.         0.        ]\n",
      " [0.2248062  0.         0.         0.        ]\n",
      " [0.39473684 0.13157895 0.         0.        ]\n",
      " [0.2481203  0.36090226 0.33082707 0.        ]] \n",
      "\n",
      "U:\t [[0.         0.45454545 0.88636364 0.47727273]\n",
      " [0.         0.         0.24806202 0.34883721]\n",
      " [0.         0.         0.         0.18421053]\n",
      " [0.         0.         0.         0.        ]] \n",
      "\n",
      "Iteration matrix:\n",
      " [[-0.         -0.45454545 -0.88636364 -0.47727273]\n",
      " [-0.2248062  -0.         -0.24806202 -0.34883721]\n",
      " [-0.39473684 -0.13157895 -0.         -0.18421053]\n",
      " [-0.2481203  -0.36090226 -0.33082707 -0.        ]] \n",
      "\n",
      "supermum norm \t\t 1.8181818181818181\n",
      "l2 norm \t\t 1.4007589710880939\n",
      "l1 norm \t\t 1.4652527195366851\n"
     ]
    }
   ],
   "source": [
    "n=4\n",
    "LU = np.zeros(shape=(n,n),dtype=float)\n",
    "mat = generateRandomMatrix(n)\n",
    "LU = calculate_iteration_matrix(mat,n)\n",
    "calculate_norm(LU)"
   ]
  },
  {
   "cell_type": "code",
   "execution_count": null,
   "metadata": {},
   "outputs": [],
   "source": [
    "def guass_operation_count(n: int):\n",
    "    \"\"\"\n",
    "    n: Number of row / columns in a square matrix\n",
    "    \"\"\"\n",
    "    # Operation count for addition\n",
    "    ref_addition = int((n * (n+1) * (2 * n + 1)) / 6) # Number of addition for REF\n",
    "    backsub_addition = int((n * (n - 1)) / 2)\n",
    "    total_addition = ref_addition + backsub_addition\n",
    "    \n",
    "    # Operation count for multiplication\n",
    "    total_multiplication = total_addition # Same as addition\n",
    "    \n",
    "    # Operation count for division\n",
    "    ref_division = int((n * (n-1)) / 2)\n",
    "    backsub_division = n\n",
    "    total_division = ref_division + backsub_division\n",
    "\n",
    "    # Summarize\n",
    "    operation_count = {\n",
    "        'addition': total_addition,\n",
    "        'multiplication': total_multiplication,\n",
    "        'division': total_division\n",
    "    }\n",
    "    \n",
    "    return operation_count"
   ]
  },
  {
   "cell_type": "code",
   "execution_count": 4,
   "metadata": {},
   "outputs": [
    {
     "name": "stdout",
     "output_type": "stream",
     "text": [
      "{'test_case': [100], 'with_pivoting_time_taken': [], 'without_pivoting_time_taken': [], 'theoritical_time': []}\n",
      "{'test_case': [200], 'with_pivoting_time_taken': [], 'without_pivoting_time_taken': [], 'theoritical_time': []}\n",
      "{'test_case': [300], 'with_pivoting_time_taken': [], 'without_pivoting_time_taken': [], 'theoritical_time': []}\n",
      "{'test_case': [400], 'with_pivoting_time_taken': [], 'without_pivoting_time_taken': [], 'theoritical_time': []}\n",
      "{'test_case': [500], 'with_pivoting_time_taken': [], 'without_pivoting_time_taken': [], 'theoritical_time': []}\n",
      "{'test_case': [600], 'with_pivoting_time_taken': [], 'without_pivoting_time_taken': [], 'theoritical_time': []}\n",
      "{'test_case': [700], 'with_pivoting_time_taken': [], 'without_pivoting_time_taken': [], 'theoritical_time': []}\n",
      "{'test_case': [800], 'with_pivoting_time_taken': [], 'without_pivoting_time_taken': [], 'theoritical_time': []}\n",
      "{'test_case': [900], 'with_pivoting_time_taken': [], 'without_pivoting_time_taken': [], 'theoritical_time': []}\n",
      "{'test_case': [1000], 'with_pivoting_time_taken': [], 'without_pivoting_time_taken': [], 'theoritical_time': []}\n"
     ]
    }
   ],
   "source": [
    "for i in range(100,1100,100):\n",
    "    efficiency = {'test_case': [i], 'with_pivoting_time_taken': [], 'without_pivoting_time_taken': [], \n",
    "              'theoritical_time': []}\n",
    "    print(efficiency)"
   ]
  },
  {
   "cell_type": "code",
   "execution_count": null,
   "metadata": {},
   "outputs": [],
   "source": []
  }
 ],
 "metadata": {
  "kernelspec": {
   "display_name": "Python 3",
   "language": "python",
   "name": "python3"
  },
  "language_info": {
   "codemirror_mode": {
    "name": "ipython",
    "version": 3
   },
   "file_extension": ".py",
   "mimetype": "text/x-python",
   "name": "python",
   "nbconvert_exporter": "python",
   "pygments_lexer": "ipython3",
   "version": "3.7.4"
  }
 },
 "nbformat": 4,
 "nbformat_minor": 2
}
