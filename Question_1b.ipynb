{
 "cells": [
  {
   "cell_type": "markdown",
   "metadata": {},
   "source": [
    "# Question 1 (ii) - Vijay Arora (2021FC04306)"
   ]
  },
  {
   "cell_type": "code",
   "execution_count": 143,
   "metadata": {},
   "outputs": [],
   "source": [
    "from numpy import *\n",
    "import numpy as np"
   ]
  },
  {
   "cell_type": "markdown",
   "metadata": {},
   "source": [
    "# Gauss Elimination Without Pivoting"
   ]
  },
  {
   "cell_type": "code",
   "execution_count": 142,
   "metadata": {},
   "outputs": [],
   "source": [
    "'''Function for handling inputs based on option provided'''\n",
    "def input_selection(x):\n",
    "    if (x==1):\n",
    "        A = array([[1,2],\n",
    "         [-1,1]],float)\n",
    "        b = array([6,3],float)\n",
    "        n = len(b)\n",
    "        print(\"Input Matrix \\n\",A,\"\\n\\n\",\"b Vector : \",b,\"\\n\\n\",\"length : \",n,\"\\n\")\n",
    "        return A,b,n\n",
    "    elif (x==2):\n",
    "        A = array([[2,2,-1],\n",
    "         [-1,1,2],\n",
    "         [0,-1,2]],float)\n",
    "        b = array([6,3,-4],float)\n",
    "        n = len(b)\n",
    "        print(\"Input Matrix \\n\",A,\"\\n\\n\",\"b Vector : \",b,\"\\n\\n\",\"length : \",n,\"\\n\")\n",
    "        return A,b,n\n",
    "    elif(x==3):\n",
    "        A = array([[2,0,3,7],\n",
    "                 [0,8,2,3],\n",
    "                 [1,0,5,2],\n",
    "                [0,1,1,9]],float)\n",
    "        b = array([4,-3,-7,10],float)\n",
    "        n=len(b)\n",
    "        print(\"Input Matrix \\n\",A,\"\\n\\n\",\"b Vector : \",b,\"\\n\\n\",\"length : \",n,\"\\n\")\n",
    "        return A,b,n"
   ]
  },
  {
   "cell_type": "code",
   "execution_count": 141,
   "metadata": {},
   "outputs": [],
   "source": [
    "'''Function for converting operation results to significant digits specified'''\n",
    "def dsig(val,sig_val):\n",
    "    if val == 0:\n",
    "        return 0\n",
    "    return round(val,sig_val-int(math.floor(math.log10(abs(val)))) - 1)"
   ]
  },
  {
   "cell_type": "markdown",
   "metadata": {},
   "source": [
    "### Forward Elimination"
   ]
  },
  {
   "cell_type": "code",
   "execution_count": 138,
   "metadata": {},
   "outputs": [],
   "source": [
    "'''Function for Forward Elimination without Pivoting'''\n",
    "def forward_elimination(A,b,n,digit):\n",
    "        countA,countD,countM=0,0,0\n",
    "        for k in range (0,n-1):             #row is k\n",
    "            for i in range(k+1,n):\n",
    "                if(A[k,k]!=0):\n",
    "                    factor=dsig((A[i,k] / A[k,k]),digit)\n",
    "                    countD+=1\n",
    "                A[i][k]=0\n",
    "                for j in range(k+1,n):\n",
    "                    A[i,j]=dsig((A[i,j]-dsig((factor*A[k,j]),digit)),digit)\n",
    "                    countA+=1\n",
    "                    countM+=1\n",
    "                b[i]=dsig((b[i]-dsig((factor*b[k]),digit)),digit)\n",
    "                countA+=1\n",
    "        operation_count = {\n",
    "            'addition': countA,\n",
    "            'multiplication': countA,\n",
    "            'division': countD\n",
    "        }       \n",
    " \n",
    "        return operation_count"
   ]
  },
  {
   "cell_type": "markdown",
   "metadata": {},
   "source": [
    "### Backward Substitution"
   ]
  },
  {
   "cell_type": "code",
   "execution_count": 139,
   "metadata": {},
   "outputs": [],
   "source": [
    "'''Function for Backward Substitution without Pivoting'''\n",
    "def backward_sub(A,b,n,digit):\n",
    "    cntA,cntD,cntM=0,0,0\n",
    "    x=np.zeros(n)\n",
    "    x[n-1] = dsig((b[n-1]/A[n-1,n-1]),digit)\n",
    "    cntD+=1\n",
    "    for row in range(n-2,-1,-1):\n",
    "        sum = b[row]\n",
    "        for j in range(row+1,n):\n",
    "            sum=dsig((sum - dsig((A[row,j] * x[j]),digit)),digit)\n",
    "            cntA+=1\n",
    "            cntM+=1\n",
    "        x[row]=dsig((sum/A[row,row]),digit)\n",
    "        cntD+=1\n",
    "        operation_cnt = {\n",
    "        'addition': cntA,\n",
    "        'multiplication': cntM,\n",
    "        'division': cntD\n",
    "    }    \n",
    "\n",
    "    return x,operation_cnt"
   ]
  },
  {
   "cell_type": "code",
   "execution_count": 140,
   "metadata": {},
   "outputs": [],
   "source": [
    "'''Function for gauss without pivoting'''\n",
    "def gauss_without_pivoting(A,b,digit):\n",
    "    matrixA = np.matrix.copy(A)\n",
    "    matrixb = np.matrix.copy(b)\n",
    "    n=len(matrixb)\n",
    "    forward_count = forward_elimination(matrixA,matrixb,n,digit)\n",
    "    sol,backward_count=backward_sub(matrixA,matrixb,n,digit)\n",
    "    out = {k: forward_count[k] + backward_count[k] for k in forward_count.keys() & backward_count.keys()}\n",
    "    print(\"Total Operations on {0}x{0} : {1} \\n\".format(n,out))\n",
    "    print(\"Solution of given system is : {0} \\n\".format(sol))"
   ]
  },
  {
   "cell_type": "markdown",
   "metadata": {},
   "source": [
    "### Driver Code for without pivoting"
   ]
  },
  {
   "cell_type": "code",
   "execution_count": 130,
   "metadata": {},
   "outputs": [
    {
     "name": "stdout",
     "output_type": "stream",
     "text": [
      "Enter the value of significant digits \n",
      "\n",
      "5\n",
      "\n",
      "Enter 1 for running program with 2x2 matrix as input.\n",
      "Enter 2 for running program with 3x3 matrix as input. \n",
      "Enter 3 for running program with 4x4 matrix as input.\n",
      "Note : Any other input will be considered invalid \n",
      "\n",
      "3\n",
      "Input Matrix \n",
      " [[2. 0. 3. 7.]\n",
      " [0. 8. 2. 3.]\n",
      " [1. 0. 5. 2.]\n",
      " [0. 1. 1. 9.]] \n",
      "\n",
      " b Vector :  [ 4. -3. -7. 10.] \n",
      "\n",
      " length :  4 \n",
      "\n",
      "Total Operations on 4x4 : {'division': 10, 'addition': 26, 'multiplication': 26} \n",
      "\n",
      "Solution of given system is : [ 0.15945 -0.39524 -1.982    1.3753 ] \n",
      "\n"
     ]
    }
   ],
   "source": [
    "significant_digit_input = int(input(\"Enter the value of significant digits \\n\\n\"))\n",
    "\n",
    "option = int(input('''\\nEnter 1 for running program with 2x2 matrix as input.\n",
    "Enter 2 for running program with 3x3 matrix as input. \n",
    "Enter 3 for running program with 4x4 matrix as input.\n",
    "Note : Any other input will be considered invalid \\n\\n'''))\n",
    "\n",
    "matrix_A,matrix_B,size = input_selection(option)\n",
    "\n",
    "gauss_without_pivoting(matrix_A,matrix_B,significant_digit_input)"
   ]
  },
  {
   "cell_type": "markdown",
   "metadata": {},
   "source": [
    "# Gauss Elimination With Pivoting"
   ]
  },
  {
   "cell_type": "markdown",
   "metadata": {},
   "source": [
    "### Forward Elimination with pivoting"
   ]
  },
  {
   "cell_type": "code",
   "execution_count": 144,
   "metadata": {},
   "outputs": [],
   "source": [
    "'''Function for Forward Elimination with Pivoting'''\n",
    "def forward_elimination_with_pivoting(A,b,n,digit):\n",
    "        countA,countD,countM=0,0,0\n",
    "        for k in range (0,n-1):   #row is k\n",
    "            temp_maxval = abs(A[k][k])\n",
    "            k_temp = k\n",
    "            # Check if pivoting need to be done\n",
    "            for s in range(k + 1,n):\n",
    "                if (abs((A[s][k])) > temp_maxval):\n",
    "                    temp_maxval = abs(A[s][k])\n",
    "                    k_temp = s\n",
    "            #Checking for pivoting\n",
    "            if k_temp != k:\n",
    "                temp = np.copy(A[k])\n",
    "                A[k] = A[k_temp]\n",
    "                A[k_temp] = temp\n",
    "                temp1 = np.copy(b[k])\n",
    "                b[k] = b[k_temp]\n",
    "                b[k_temp] = temp1\n",
    "            \n",
    "            for i in range(k+1,n):  \n",
    "                factor=dsig((A[i,k] / A[k,k]),digit)\n",
    "                countD+=1\n",
    "                A[i][k]=0   \n",
    "                for j in range(k+1,n):\n",
    "                    A[i,j]=dsig((A[i,j]-dsig((factor*A[k,j]),digit)),digit)\n",
    "                    countA+=1\n",
    "                    countM+=1\n",
    "                b[i]=dsig((b[i]-dsig((factor*b[k]),digit)),digit)\n",
    "                countA+=1\n",
    "        operation_count = {\n",
    "            'addition': countA,\n",
    "            'multiplication': countA,\n",
    "            'division': countD\n",
    "        }       \n",
    "\n",
    "        return operation_count"
   ]
  },
  {
   "cell_type": "markdown",
   "metadata": {},
   "source": [
    "### Backward Substitution with pivoting"
   ]
  },
  {
   "cell_type": "code",
   "execution_count": 136,
   "metadata": {},
   "outputs": [],
   "source": [
    "'''Function for Backward Substitution with Pivoting'''\n",
    "def backward_sub_with_pivoting(A,b,n,digit):\n",
    "    cntA,cntD,cntM=0,0,0\n",
    "    x=np.zeros(n)\n",
    "    x[n-1] = dsig((b[n-1]/A[n-1,n-1]),digit)\n",
    "    cntD+=1\n",
    "    for row in range(n-2,-1,-1):\n",
    "        sum = b[row]\n",
    "        for j in range(row+1,n):\n",
    "            sum=dsig((sum - dsig((A[row,j] * x[j]),digit)),digit)\n",
    "            cntA+=1\n",
    "            cntM+=1\n",
    "        x[row]=dsig((sum/A[row,row]),digit)\n",
    "        cntD+=1\n",
    "        operation_cnt = {\n",
    "        'addition': cntA,\n",
    "        'multiplication': cntM,\n",
    "        'division': cntD\n",
    "    }    \n",
    "        \n",
    "\n",
    "    return x,operation_cnt"
   ]
  },
  {
   "cell_type": "code",
   "execution_count": 135,
   "metadata": {},
   "outputs": [],
   "source": [
    "'''Function for gauss with pivoting'''\n",
    "def gauss_with_pivoting(A,b,digit):\n",
    "    matrixA1 = np.matrix.copy(A)\n",
    "    matrixb1 = np.matrix.copy(b)\n",
    "    n=len(matrixb1)\n",
    "    forward_count = forward_elimination_with_pivoting(matrixA1,matrixb1,n,digit)\n",
    "    sol,backward_count=backward_sub_with_pivoting(matrixA1,matrixb1,n,digit)\n",
    "    out = {k: forward_count[k] + backward_count[k] for k in forward_count.keys() & backward_count.keys()}\n",
    "    print(\"Total Operations on {0}x{0} : {1} \\n\".format(n,out))\n",
    "    print(\"Solution of given system is : {0} \\n\".format(sol))"
   ]
  },
  {
   "cell_type": "markdown",
   "metadata": {},
   "source": [
    "### Driver code for with pivoting"
   ]
  },
  {
   "cell_type": "code",
   "execution_count": 134,
   "metadata": {},
   "outputs": [
    {
     "name": "stdout",
     "output_type": "stream",
     "text": [
      "Enter the value of significant digits \n",
      "\n",
      "5\n",
      "\n",
      "Enter 1 for running program with 2x2 matrix as input.\n",
      "Enter 2 for running program with 3x3 matrix as input. \n",
      "Enter 3 for running program with 4x4 matrix as input.\n",
      "Note : Any other input will be considered invalid \n",
      "\n",
      "3\n",
      "Input Matrix \n",
      " [[2. 0. 3. 7.]\n",
      " [0. 8. 2. 3.]\n",
      " [1. 0. 5. 2.]\n",
      " [0. 1. 1. 9.]] \n",
      "\n",
      " b Vector :  [ 4. -3. -7. 10.] \n",
      "\n",
      " length :  4 \n",
      "\n",
      "[[2. 0. 3. 7.]\n",
      " [0. 8. 2. 3.]\n",
      " [1. 0. 5. 2.]\n",
      " [0. 1. 1. 9.]]\n",
      "[ 4. -3. -7. 10.]\n",
      "[[ 2.   0.   3.   7. ]\n",
      " [ 0.   8.   2.   3. ]\n",
      " [ 0.   0.   3.5 -1.5]\n",
      " [ 0.   1.   1.   9. ]]\n",
      "[ 4. -3. -9. 10.]\n",
      "[[ 2.     0.     3.     7.   ]\n",
      " [ 0.     8.     2.     3.   ]\n",
      " [ 0.     0.     3.5   -1.5  ]\n",
      " [ 0.     0.     0.75   8.625]]\n",
      "[ 4.    -3.    -9.    10.375]\n",
      "Total Operations on 4x4 : {'division': 10, 'addition': 26, 'multiplication': 26} \n",
      "\n",
      "Solution of given system is : [ 0.15945 -0.39524 -1.982    1.3753 ] \n",
      "\n"
     ]
    }
   ],
   "source": [
    "significant_digit_input1 = int(input(\"Enter the value of significant digits \\n\\n\"))\n",
    "\n",
    "option1 = int(input('''\\nEnter 1 for running program with 2x2 matrix as input.\n",
    "Enter 2 for running program with 3x3 matrix as input. \n",
    "Enter 3 for running program with 4x4 matrix as input.\n",
    "Note : Any other input will be considered invalid \\n\\n'''))\n",
    "\n",
    "matrix_A1,matrix_B1,size1 = input_selection(option1)\n",
    "\n",
    "gauss_with_pivoting(matrix_A1,matrix_B1,significant_digit_input1)"
   ]
  },
  {
   "cell_type": "code",
   "execution_count": null,
   "metadata": {},
   "outputs": [],
   "source": []
  }
 ],
 "metadata": {
  "kernelspec": {
   "display_name": "Python 3",
   "language": "python",
   "name": "python3"
  },
  "language_info": {
   "codemirror_mode": {
    "name": "ipython",
    "version": 3
   },
   "file_extension": ".py",
   "mimetype": "text/x-python",
   "name": "python",
   "nbconvert_exporter": "python",
   "pygments_lexer": "ipython3",
   "version": "3.7.4"
  }
 },
 "nbformat": 4,
 "nbformat_minor": 2
}
