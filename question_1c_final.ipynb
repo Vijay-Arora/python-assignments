{
 "cells": [
  {
   "cell_type": "code",
   "execution_count": 24,
   "metadata": {},
   "outputs": [],
   "source": [
    "from numpy import *\n",
    "import numpy as np\n",
    "import time\n",
    "from copy import copy, deepcopy\n",
    "import pandas as pd"
   ]
  },
  {
   "cell_type": "code",
   "execution_count": 35,
   "metadata": {},
   "outputs": [],
   "source": [
    "def dsig(value, sig_digits):\n",
    "    if value == 0:\n",
    "        return 0\n",
    "    return round(value, sig_digits - int(math.floor(math.log10(abs(value)))) - 1)"
   ]
  },
  {
   "cell_type": "code",
   "execution_count": null,
   "metadata": {},
   "outputs": [],
   "source": [
    "#generate test data"
   ]
  },
  {
   "cell_type": "code",
   "execution_count": 27,
   "metadata": {},
   "outputs": [],
   "source": [
    "test_data_range=1100"
   ]
  },
  {
   "cell_type": "code",
   "execution_count": 28,
   "metadata": {},
   "outputs": [],
   "source": [
    "def generate_test_data(test_range):\n",
    "    test_cases = {}\n",
    "    for case in range(100, test_range, 100):\n",
    "        matrix_A = [[dsig(random.random(), sig_digits=5) for _ in range(case)]for _ in range(case)]\n",
    "        matrix_b = [dsig(random.random(), sig_digits=5) for _ in range(case)]\n",
    "        test_cases[case] = {'matrix_A': matrix_A, 'matrix_b': matrix_b}\n",
    "\n",
    "    return test_cases"
   ]
  },
  {
   "cell_type": "code",
   "execution_count": 29,
   "metadata": {},
   "outputs": [
    {
     "name": "stdout",
     "output_type": "stream",
     "text": [
      "100\n",
      "matrix_A: 100 * 100\n",
      "matrix_b: 100\n",
      "------------------------------\n",
      "200\n",
      "matrix_A: 200 * 200\n",
      "matrix_b: 200\n",
      "------------------------------\n",
      "300\n",
      "matrix_A: 300 * 300\n",
      "matrix_b: 300\n",
      "------------------------------\n",
      "400\n",
      "matrix_A: 400 * 400\n",
      "matrix_b: 400\n",
      "------------------------------\n",
      "500\n",
      "matrix_A: 500 * 500\n",
      "matrix_b: 500\n",
      "------------------------------\n",
      "600\n",
      "matrix_A: 600 * 600\n",
      "matrix_b: 600\n",
      "------------------------------\n",
      "700\n",
      "matrix_A: 700 * 700\n",
      "matrix_b: 700\n",
      "------------------------------\n",
      "800\n",
      "matrix_A: 800 * 800\n",
      "matrix_b: 800\n",
      "------------------------------\n",
      "900\n",
      "matrix_A: 900 * 900\n",
      "matrix_b: 900\n",
      "------------------------------\n",
      "1000\n",
      "matrix_A: 1000 * 1000\n",
      "matrix_b: 1000\n",
      "------------------------------\n"
     ]
    }
   ],
   "source": [
    "test_suit = generate_test_data(test_data_range)\n",
    "for each_case in test_suit.items():\n",
    "    print(each_case[0])\n",
    "    print(f\"matrix_A: {len(each_case[1]['matrix_A'])} * {len(each_case[1]['matrix_A'][0])}\")\n",
    "    print(f\"matrix_b: {len(each_case[1]['matrix_b'])}\")\n",
    "    print(\"-\"*30)"
   ]
  },
  {
   "cell_type": "code",
   "execution_count": null,
   "metadata": {},
   "outputs": [],
   "source": [
    "#without pivoting"
   ]
  },
  {
   "cell_type": "code",
   "execution_count": 30,
   "metadata": {},
   "outputs": [],
   "source": [
    "def forward_elimination(A,b,n,digit):\n",
    "    #forward elimination\n",
    "    countA,countD,rowsum=0,0,0\n",
    "    for k in range (0,n-1):             #row is k\n",
    "        for i in range(k+1,n):\n",
    "            if(A[k,k]!=0):\n",
    "                factor=A[i,k] / A[k,k]\n",
    "                countD+=1\n",
    "            A[i][k]=0\n",
    "            for j in range(k+1,n):\n",
    "                if(A[i,j]==0):\n",
    "                    j+1\n",
    "                if(A[i,j]!=0):\n",
    "                    A[i,j]=A[i,j]-(factor*A[k,j])\n",
    "                    countA+=1\n",
    "            b[i]=b[i]-(factor*b[k])\n",
    "            countA+=1\n",
    "    operation_count = {\n",
    "        'addition': countA,\n",
    "        'multiplication': countA,\n",
    "        'division': countD\n",
    "    }       \n",
    "#     print (\"Forward Elimination A \\n\",A,\"\\n Forward Elimination b \\n\",b,\"\\n\")\n",
    "    return operation_count"
   ]
  },
  {
   "cell_type": "code",
   "execution_count": 21,
   "metadata": {},
   "outputs": [],
   "source": [
    "def backward_sub(A,b,n,digit):\n",
    "    cntA,cntD,row_sum=0,0,0\n",
    "    x=np.zeros(n)\n",
    "    x[n-1] = b[n-1]/A[n-1,n-1]\n",
    "    cntD+=1\n",
    "    for row in range(n-2,-1,-1):\n",
    "        sum = b[row]\n",
    "        for j in range(row+1,n):\n",
    "            sum=sum - (A[row,j] * x[j])\n",
    "            cntA+=1\n",
    "        x[row]=sum/A[row,row]\n",
    "        cntD+=1\n",
    "        operation_cnt = {\n",
    "        'addition': cntA,\n",
    "        'multiplication': cntA,\n",
    "        'division': cntD\n",
    "    }    \n",
    "#     print (\"Backward Elimination A \\n\",A,\"\\n Backward Elimination b \\n\",b,\"\\n\")\n",
    "    return operation_cnt"
   ]
  },
  {
   "cell_type": "code",
   "execution_count": 22,
   "metadata": {},
   "outputs": [],
   "source": [
    "def gauss_without_pivoting(A,b,digit):\n",
    "    A = np.array(A)\n",
    "    b = np.array(b)\n",
    "    matrixA = np.matrix.copy(A)\n",
    "    matrixb = np.matrix.copy(b)\n",
    "    n=len(b)\n",
    "    forward_count = forward_elimination(A,b,n,digit)\n",
    "    backward_count=backward_sub(matrixA,matrixb,n,digit)\n",
    "    out = {k: forward_count[k] + backward_count[k] for k in forward_count.keys() & backward_count.keys()}\n",
    "    return out"
   ]
  },
  {
   "cell_type": "code",
   "execution_count": 23,
   "metadata": {},
   "outputs": [
    {
     "name": "stdout",
     "output_type": "stream",
     "text": [
      "3\n",
      "{'multiplication': 11, 'addition': 11, 'division': 6}\n",
      "++++++++++++++++++++++++++++++ \n",
      "\n",
      "\n"
     ]
    }
   ],
   "source": [
    "for case_key, each_case in test_suit.items():\n",
    "    print(case_key)\n",
    "    operation = gauss_without_pivoting(A = deepcopy(each_case['matrix_A']), b = deepcopy(each_case['matrix_b']), digit=5)\n",
    "    each_case['opcount'] = operation\n",
    "    print(each_case['opcount'])\n",
    "    print(\"+\"*30, \"\\n\\n\")"
   ]
  },
  {
   "cell_type": "code",
   "execution_count": null,
   "metadata": {},
   "outputs": [],
   "source": [
    "#with_pivoting"
   ]
  },
  {
   "cell_type": "code",
   "execution_count": 44,
   "metadata": {},
   "outputs": [],
   "source": [
    "def forward_with_pivoting(A,b,n,digit):   \n",
    "    countA,countD,rowsum=0,0,0\n",
    "    for k in range (0,n-1): #row is k\n",
    "        for i in range (k+1,n):\n",
    "            if (abs(A[i][k]) > abs(A[k][k])):\n",
    "                temp = np.copy(A[k])\n",
    "                A[k] = A[i]\n",
    "                A[i] = temp\n",
    "            factor=dsig((A[i,k] / A[k,k]),digit)\n",
    "            countD+=1\n",
    "            A[i][k]=0\n",
    "            for j in range(k+1,n):\n",
    "                if(A[i,j]==0):\n",
    "                    j+1\n",
    "                if(A[k,j]!=0):\n",
    "                    A[i,j]=dsig((A[i,j]-dsig((factor*A[k,j]),digit)),digit)\n",
    "                    countA+=1\n",
    "            b[i]=dsig((b[i]-dsig((factor*b[k]),digit)),digit)\n",
    "            countA+=1\n",
    "    operation_count = {\n",
    "        'addition': countA,\n",
    "        'multiplication': countA,\n",
    "        'division': countD\n",
    "    }       \n",
    "#     print (\"Forward Elimination A \\n\",A,\"\\n Forward Elimination b \\n\",b,\"\\n\")\n",
    "    return operation_count"
   ]
  },
  {
   "cell_type": "code",
   "execution_count": 45,
   "metadata": {},
   "outputs": [],
   "source": [
    "def backward_with_pivoting(A,b,n,digit):\n",
    "    cntA,cntD,row_sum=0,0,0\n",
    "    x=np.zeros(n)\n",
    "    x[n-1] = b[n-1]/A[n-1,n-1]\n",
    "    cntD+=1\n",
    "    for row in range(n-2,-1,-1):\n",
    "        sum = b[row]\n",
    "        for j in range(row+1,n):\n",
    "                sum=sum - (A[row,j] * x[j])\n",
    "                cntA+=1\n",
    "        x[row]=sum/A[row,row]\n",
    "        cntD+=1\n",
    "        operation_cnt = {\n",
    "        'addition': cntA,\n",
    "        'multiplication': cntA,\n",
    "        'division': cntD\n",
    "    }    \n",
    "#     print (\"Backward Elimination A \\n\",A,\"\\n Backward Elimination b \\n\",b,\"\\n\")\n",
    "    return operation_cnt"
   ]
  },
  {
   "cell_type": "code",
   "execution_count": 46,
   "metadata": {},
   "outputs": [],
   "source": [
    "def gauss_with_pivoting(A,b,digit):\n",
    "    A = np.array(A)\n",
    "    b = np.array(b)\n",
    "    matrixA = np.matrix.copy(A)\n",
    "    matrixb = np.matrix.copy(b)\n",
    "    n=len(b)\n",
    "    sol = np.zeros(n)\n",
    "    sol = np.zeros(n)\n",
    "    forward_count=forward_with_pivoting(A,b,n,digit)\n",
    "    backward_count=backward_with_pivoting(matrixA,matrixb,n,digit)\n",
    "    out = {k: forward_count[k] + backward_count[k] for k in forward_count.keys() & backward_count.keys()}\n",
    "    return out"
   ]
  },
  {
   "cell_type": "code",
   "execution_count": 47,
   "metadata": {},
   "outputs": [
    {
     "name": "stdout",
     "output_type": "stream",
     "text": [
      "100\n",
      "{'multiplication': 338250, 'addition': 338250, 'division': 5050}\n",
      "++++++++++++++++++++++++++++++ \n",
      "\n",
      "\n",
      "200\n"
     ]
    },
    {
     "ename": "KeyboardInterrupt",
     "evalue": "",
     "output_type": "error",
     "traceback": [
      "\u001b[1;31m---------------------------------------------------------------------------\u001b[0m",
      "\u001b[1;31mKeyboardInterrupt\u001b[0m                         Traceback (most recent call last)",
      "\u001b[1;32m<ipython-input-47-b9cc9ba9eb6e>\u001b[0m in \u001b[0;36m<module>\u001b[1;34m\u001b[0m\n\u001b[0;32m      1\u001b[0m \u001b[1;32mfor\u001b[0m \u001b[0mcase_key\u001b[0m\u001b[1;33m,\u001b[0m \u001b[0meach_case\u001b[0m \u001b[1;32min\u001b[0m \u001b[0mtest_suit\u001b[0m\u001b[1;33m.\u001b[0m\u001b[0mitems\u001b[0m\u001b[1;33m(\u001b[0m\u001b[1;33m)\u001b[0m\u001b[1;33m:\u001b[0m\u001b[1;33m\u001b[0m\u001b[1;33m\u001b[0m\u001b[0m\n\u001b[0;32m      2\u001b[0m     \u001b[0mprint\u001b[0m\u001b[1;33m(\u001b[0m\u001b[0mcase_key\u001b[0m\u001b[1;33m)\u001b[0m\u001b[1;33m\u001b[0m\u001b[1;33m\u001b[0m\u001b[0m\n\u001b[1;32m----> 3\u001b[1;33m     \u001b[0moper\u001b[0m \u001b[1;33m=\u001b[0m \u001b[0mgauss_with_pivoting\u001b[0m\u001b[1;33m(\u001b[0m\u001b[0mA\u001b[0m \u001b[1;33m=\u001b[0m \u001b[0mdeepcopy\u001b[0m\u001b[1;33m(\u001b[0m\u001b[0meach_case\u001b[0m\u001b[1;33m[\u001b[0m\u001b[1;34m'matrix_A'\u001b[0m\u001b[1;33m]\u001b[0m\u001b[1;33m)\u001b[0m\u001b[1;33m,\u001b[0m \u001b[0mb\u001b[0m \u001b[1;33m=\u001b[0m \u001b[0mdeepcopy\u001b[0m\u001b[1;33m(\u001b[0m\u001b[0meach_case\u001b[0m\u001b[1;33m[\u001b[0m\u001b[1;34m'matrix_b'\u001b[0m\u001b[1;33m]\u001b[0m\u001b[1;33m)\u001b[0m\u001b[1;33m,\u001b[0m \u001b[0mdigit\u001b[0m\u001b[1;33m=\u001b[0m\u001b[1;36m5\u001b[0m\u001b[1;33m)\u001b[0m\u001b[1;33m\u001b[0m\u001b[1;33m\u001b[0m\u001b[0m\n\u001b[0m\u001b[0;32m      4\u001b[0m     \u001b[0meach_case\u001b[0m\u001b[1;33m[\u001b[0m\u001b[1;34m'opcount_with_pivoting'\u001b[0m\u001b[1;33m]\u001b[0m \u001b[1;33m=\u001b[0m \u001b[0moper\u001b[0m\u001b[1;33m\u001b[0m\u001b[1;33m\u001b[0m\u001b[0m\n\u001b[0;32m      5\u001b[0m     \u001b[0mprint\u001b[0m\u001b[1;33m(\u001b[0m\u001b[0meach_case\u001b[0m\u001b[1;33m[\u001b[0m\u001b[1;34m'opcount_with_pivoting'\u001b[0m\u001b[1;33m]\u001b[0m\u001b[1;33m)\u001b[0m\u001b[1;33m\u001b[0m\u001b[1;33m\u001b[0m\u001b[0m\n",
      "\u001b[1;32m<ipython-input-46-fd5c2fceb2aa>\u001b[0m in \u001b[0;36mgauss_with_pivoting\u001b[1;34m(A, b, digit)\u001b[0m\n\u001b[0;32m      7\u001b[0m     \u001b[0msol\u001b[0m \u001b[1;33m=\u001b[0m \u001b[0mnp\u001b[0m\u001b[1;33m.\u001b[0m\u001b[0mzeros\u001b[0m\u001b[1;33m(\u001b[0m\u001b[0mn\u001b[0m\u001b[1;33m)\u001b[0m\u001b[1;33m\u001b[0m\u001b[1;33m\u001b[0m\u001b[0m\n\u001b[0;32m      8\u001b[0m     \u001b[0msol\u001b[0m \u001b[1;33m=\u001b[0m \u001b[0mnp\u001b[0m\u001b[1;33m.\u001b[0m\u001b[0mzeros\u001b[0m\u001b[1;33m(\u001b[0m\u001b[0mn\u001b[0m\u001b[1;33m)\u001b[0m\u001b[1;33m\u001b[0m\u001b[1;33m\u001b[0m\u001b[0m\n\u001b[1;32m----> 9\u001b[1;33m     \u001b[0mforward_count\u001b[0m\u001b[1;33m=\u001b[0m\u001b[0mforward_with_pivoting\u001b[0m\u001b[1;33m(\u001b[0m\u001b[0mA\u001b[0m\u001b[1;33m,\u001b[0m\u001b[0mb\u001b[0m\u001b[1;33m,\u001b[0m\u001b[0mn\u001b[0m\u001b[1;33m,\u001b[0m\u001b[0mdigit\u001b[0m\u001b[1;33m)\u001b[0m\u001b[1;33m\u001b[0m\u001b[1;33m\u001b[0m\u001b[0m\n\u001b[0m\u001b[0;32m     10\u001b[0m     \u001b[0mbackward_count\u001b[0m\u001b[1;33m=\u001b[0m\u001b[0mbackward_with_pivoting\u001b[0m\u001b[1;33m(\u001b[0m\u001b[0mmatrixA\u001b[0m\u001b[1;33m,\u001b[0m\u001b[0mmatrixb\u001b[0m\u001b[1;33m,\u001b[0m\u001b[0mn\u001b[0m\u001b[1;33m,\u001b[0m\u001b[0mdigit\u001b[0m\u001b[1;33m)\u001b[0m\u001b[1;33m\u001b[0m\u001b[1;33m\u001b[0m\u001b[0m\n\u001b[0;32m     11\u001b[0m     \u001b[0mout\u001b[0m \u001b[1;33m=\u001b[0m \u001b[1;33m{\u001b[0m\u001b[0mk\u001b[0m\u001b[1;33m:\u001b[0m \u001b[0mforward_count\u001b[0m\u001b[1;33m[\u001b[0m\u001b[0mk\u001b[0m\u001b[1;33m]\u001b[0m \u001b[1;33m+\u001b[0m \u001b[0mbackward_count\u001b[0m\u001b[1;33m[\u001b[0m\u001b[0mk\u001b[0m\u001b[1;33m]\u001b[0m \u001b[1;32mfor\u001b[0m \u001b[0mk\u001b[0m \u001b[1;32min\u001b[0m \u001b[0mforward_count\u001b[0m\u001b[1;33m.\u001b[0m\u001b[0mkeys\u001b[0m\u001b[1;33m(\u001b[0m\u001b[1;33m)\u001b[0m \u001b[1;33m&\u001b[0m \u001b[0mbackward_count\u001b[0m\u001b[1;33m.\u001b[0m\u001b[0mkeys\u001b[0m\u001b[1;33m(\u001b[0m\u001b[1;33m)\u001b[0m\u001b[1;33m}\u001b[0m\u001b[1;33m\u001b[0m\u001b[1;33m\u001b[0m\u001b[0m\n",
      "\u001b[1;32m<ipython-input-44-fcd776801e7e>\u001b[0m in \u001b[0;36mforward_with_pivoting\u001b[1;34m(A, b, n, digit)\u001b[0m\n\u001b[0;32m     14\u001b[0m                     \u001b[0mj\u001b[0m\u001b[1;33m+\u001b[0m\u001b[1;36m1\u001b[0m\u001b[1;33m\u001b[0m\u001b[1;33m\u001b[0m\u001b[0m\n\u001b[0;32m     15\u001b[0m                 \u001b[1;32mif\u001b[0m\u001b[1;33m(\u001b[0m\u001b[0mA\u001b[0m\u001b[1;33m[\u001b[0m\u001b[0mk\u001b[0m\u001b[1;33m,\u001b[0m\u001b[0mj\u001b[0m\u001b[1;33m]\u001b[0m\u001b[1;33m!=\u001b[0m\u001b[1;36m0\u001b[0m\u001b[1;33m)\u001b[0m\u001b[1;33m:\u001b[0m\u001b[1;33m\u001b[0m\u001b[1;33m\u001b[0m\u001b[0m\n\u001b[1;32m---> 16\u001b[1;33m                     \u001b[0mA\u001b[0m\u001b[1;33m[\u001b[0m\u001b[0mi\u001b[0m\u001b[1;33m,\u001b[0m\u001b[0mj\u001b[0m\u001b[1;33m]\u001b[0m\u001b[1;33m=\u001b[0m\u001b[0mdsig\u001b[0m\u001b[1;33m(\u001b[0m\u001b[1;33m(\u001b[0m\u001b[0mA\u001b[0m\u001b[1;33m[\u001b[0m\u001b[0mi\u001b[0m\u001b[1;33m,\u001b[0m\u001b[0mj\u001b[0m\u001b[1;33m]\u001b[0m\u001b[1;33m-\u001b[0m\u001b[0mdsig\u001b[0m\u001b[1;33m(\u001b[0m\u001b[1;33m(\u001b[0m\u001b[0mfactor\u001b[0m\u001b[1;33m*\u001b[0m\u001b[0mA\u001b[0m\u001b[1;33m[\u001b[0m\u001b[0mk\u001b[0m\u001b[1;33m,\u001b[0m\u001b[0mj\u001b[0m\u001b[1;33m]\u001b[0m\u001b[1;33m)\u001b[0m\u001b[1;33m,\u001b[0m\u001b[0mdigit\u001b[0m\u001b[1;33m)\u001b[0m\u001b[1;33m)\u001b[0m\u001b[1;33m,\u001b[0m\u001b[0mdigit\u001b[0m\u001b[1;33m)\u001b[0m\u001b[1;33m\u001b[0m\u001b[1;33m\u001b[0m\u001b[0m\n\u001b[0m\u001b[0;32m     17\u001b[0m                     \u001b[0mcountA\u001b[0m\u001b[1;33m+=\u001b[0m\u001b[1;36m1\u001b[0m\u001b[1;33m\u001b[0m\u001b[1;33m\u001b[0m\u001b[0m\n\u001b[0;32m     18\u001b[0m             \u001b[0mb\u001b[0m\u001b[1;33m[\u001b[0m\u001b[0mi\u001b[0m\u001b[1;33m]\u001b[0m\u001b[1;33m=\u001b[0m\u001b[0mdsig\u001b[0m\u001b[1;33m(\u001b[0m\u001b[1;33m(\u001b[0m\u001b[0mb\u001b[0m\u001b[1;33m[\u001b[0m\u001b[0mi\u001b[0m\u001b[1;33m]\u001b[0m\u001b[1;33m-\u001b[0m\u001b[0mdsig\u001b[0m\u001b[1;33m(\u001b[0m\u001b[1;33m(\u001b[0m\u001b[0mfactor\u001b[0m\u001b[1;33m*\u001b[0m\u001b[0mb\u001b[0m\u001b[1;33m[\u001b[0m\u001b[0mk\u001b[0m\u001b[1;33m]\u001b[0m\u001b[1;33m)\u001b[0m\u001b[1;33m,\u001b[0m\u001b[0mdigit\u001b[0m\u001b[1;33m)\u001b[0m\u001b[1;33m)\u001b[0m\u001b[1;33m,\u001b[0m\u001b[0mdigit\u001b[0m\u001b[1;33m)\u001b[0m\u001b[1;33m\u001b[0m\u001b[1;33m\u001b[0m\u001b[0m\n",
      "\u001b[1;32m<ipython-input-35-9a4a3b5bcf91>\u001b[0m in \u001b[0;36mdsig\u001b[1;34m(value, sig_digits)\u001b[0m\n\u001b[0;32m      2\u001b[0m     \u001b[1;32mif\u001b[0m \u001b[0mvalue\u001b[0m \u001b[1;33m==\u001b[0m \u001b[1;36m0\u001b[0m\u001b[1;33m:\u001b[0m\u001b[1;33m\u001b[0m\u001b[1;33m\u001b[0m\u001b[0m\n\u001b[0;32m      3\u001b[0m         \u001b[1;32mreturn\u001b[0m \u001b[1;36m0\u001b[0m\u001b[1;33m\u001b[0m\u001b[1;33m\u001b[0m\u001b[0m\n\u001b[1;32m----> 4\u001b[1;33m     \u001b[1;32mreturn\u001b[0m \u001b[0mround\u001b[0m\u001b[1;33m(\u001b[0m\u001b[0mvalue\u001b[0m\u001b[1;33m,\u001b[0m \u001b[0msig_digits\u001b[0m \u001b[1;33m-\u001b[0m \u001b[0mint\u001b[0m\u001b[1;33m(\u001b[0m\u001b[0mmath\u001b[0m\u001b[1;33m.\u001b[0m\u001b[0mfloor\u001b[0m\u001b[1;33m(\u001b[0m\u001b[0mmath\u001b[0m\u001b[1;33m.\u001b[0m\u001b[0mlog10\u001b[0m\u001b[1;33m(\u001b[0m\u001b[0mabs\u001b[0m\u001b[1;33m(\u001b[0m\u001b[0mvalue\u001b[0m\u001b[1;33m)\u001b[0m\u001b[1;33m)\u001b[0m\u001b[1;33m)\u001b[0m\u001b[1;33m)\u001b[0m \u001b[1;33m-\u001b[0m \u001b[1;36m1\u001b[0m\u001b[1;33m)\u001b[0m\u001b[1;33m\u001b[0m\u001b[1;33m\u001b[0m\u001b[0m\n\u001b[0m",
      "\u001b[1;31mKeyboardInterrupt\u001b[0m: "
     ]
    }
   ],
   "source": [
    "for case_key, each_case in test_suit.items():\n",
    "    print(case_key)\n",
    "    oper = gauss_with_pivoting(A = deepcopy(each_case['matrix_A']), b = deepcopy(each_case['matrix_b']), digit=5)\n",
    "    each_case['opcount_with_pivoting'] = oper\n",
    "    print(each_case['opcount_with_pivoting'])\n",
    "    print(\"+\"*30, \"\\n\\n\")"
   ]
  },
  {
   "cell_type": "code",
   "execution_count": null,
   "metadata": {},
   "outputs": [],
   "source": []
  }
 ],
 "metadata": {
  "kernelspec": {
   "display_name": "Python 3",
   "language": "python",
   "name": "python3"
  },
  "language_info": {
   "codemirror_mode": {
    "name": "ipython",
    "version": 3
   },
   "file_extension": ".py",
   "mimetype": "text/x-python",
   "name": "python",
   "nbconvert_exporter": "python",
   "pygments_lexer": "ipython3",
   "version": "3.7.4"
  }
 },
 "nbformat": 4,
 "nbformat_minor": 2
}
