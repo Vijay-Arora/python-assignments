{
 "cells": [
  {
   "cell_type": "code",
   "execution_count": 11,
   "metadata": {},
   "outputs": [],
   "source": [
    "import numpy as np\n",
    "from numpy import *\n",
    "from random import *"
   ]
  },
  {
   "cell_type": "code",
   "execution_count": 14,
   "metadata": {},
   "outputs": [],
   "source": [
    "def isDDM(b,n):\n",
    "    flag = True\n",
    "    for i in range (n):\n",
    "        x,sumD=0,0\n",
    "        for j in range(n):\n",
    "            if(i!=j):\n",
    "                sumD+=abs(b[i][j])\n",
    "        x=b[i][i]\n",
    "        if (abs(x)>abs(sumD)):\n",
    "            flag = True\n",
    "        else:\n",
    "            flag = False\n",
    "            return flag\n",
    "    return flag"
   ]
  },
  {
   "cell_type": "code",
   "execution_count": 3,
   "metadata": {},
   "outputs": [],
   "source": [
    "def calculate_iteration_matrix(b,n):\n",
    "    for i in range(n):\n",
    "        x=b[i][i]\n",
    "        for j in range(n):\n",
    "            b[i][j]=b[i][j]/x\n",
    "            \n",
    "    L = np.zeros(shape=(n,n),dtype=float)\n",
    "    U = np.zeros(shape=(n,n),dtype=float)\n",
    "    I = np.identity(n,dtype=float)\n",
    "    for i in range(n):\n",
    "        for j in range(n):\n",
    "            if j<i:\n",
    "                L[i][j]=b[i][j]\n",
    "            if j>i:\n",
    "                U[i][j]=b[i][j]\n",
    "                \n",
    "    I_L = np.add(L,I)\n",
    "    I_L_Inverse = np.linalg.inv(I_L)\n",
    "    I_L_Inverse_U = np.dot(I_L_Inverse,U)\n",
    "    I_L_Inverse_U = I_L_Inverse_U*-1\n",
    "    print (\"L :\\n\",L,\"\\n\")\n",
    "    print (\"U:\\n\",U,\"\\n\")\n",
    "    print (\"I:\\n\",I,\"\\n\")\n",
    "    print(\"Iteration matrix:\\n\",I_L_Inverse_U,\"\\n\")\n",
    "    return I_L_Inverse_U"
   ]
  },
  {
   "cell_type": "code",
   "execution_count": 4,
   "metadata": {},
   "outputs": [],
   "source": [
    "def calculate_norm(I_L_Inverse_U):\n",
    "    print(\"supermum norm \\t\\t\",np.linalg.norm(I_L_Inverse_U,np.inf))\n",
    "    print(\"l2 norm \\t\\t\",np.linalg.norm(I_L_Inverse_U,'fro'))\n",
    "    print(\"l1 norm \\t\\t\",np.linalg.norm(I_L_Inverse_U,1))"
   ]
  },
  {
   "cell_type": "code",
   "execution_count": 7,
   "metadata": {},
   "outputs": [],
   "source": [
    "def generateRandomMatrix(N):\n",
    "    matrix = np.float_(np.random.randint(1,50, size=(N, N)))\n",
    "    for i in range(matrix.shape[0]):\n",
    "        row  = matrix[i].copy()\n",
    "        row_sum = sum(row)\n",
    "        if random()>0.65:\n",
    "            matrix[i,i] = row_sum+np.random.randint(5)\n",
    "#     input_matrix = np.zeros(shape=(N,N), dtype=float)\n",
    "#     augmented_matrix_list = list()\n",
    "#     for row in range(0,N):\n",
    "#         for col in range (0,N):\n",
    "#             input_matrix[row][col] = np.random.randint(0,9)\n",
    "#     b_vector = np.zeros(N)\n",
    "#     for i in range(N):\n",
    "#         b_vector[i]  = np.random.randint(0,9)\n",
    "#     print(\"input A : \\n {0} \\n b_vector : \\n {1} \\n\".format(matrix,b_vector))\n",
    "    print(\"input A : \\n {0}\\n\".format(matrix))\n",
    "    return matrix"
   ]
  },
  {
   "cell_type": "code",
   "execution_count": 6,
   "metadata": {},
   "outputs": [],
   "source": [
    "n = 4\n",
    "flag = False\n",
    "m_flag = False\n",
    "I_L_Inverse_U = np.zeros(shape=(n,n),dtype=float)\n",
    "# matrix = np.zeros(shape=(n,n),dtype=float)"
   ]
  },
  {
   "cell_type": "code",
   "execution_count": 4,
   "metadata": {},
   "outputs": [
    {
     "name": "stdout",
     "output_type": "stream",
     "text": [
      "input \n",
      " [[9. 2. 1. 1.]\n",
      " [0. 8. 2. 3.]\n",
      " [1. 0. 5. 2.]\n",
      " [1. 0. 3. 7.]] \n",
      "\n"
     ]
    }
   ],
   "source": [
    "# #DDM\n",
    "# a = np.array([[9,2,1,1],\n",
    "#          [0,8,2,3],\n",
    "#          [1,0,5,2],\n",
    "#         [1,0,3,7]],float)\n",
    "# b = np.copy(a)\n",
    "# print(\"input \\n\",b,\"\\n\")"
   ]
  },
  {
   "cell_type": "code",
   "execution_count": 15,
   "metadata": {},
   "outputs": [
    {
     "name": "stdout",
     "output_type": "stream",
     "text": [
      "input A : \n",
      " [[ 13.  26.  39.  49.]\n",
      " [ 12.  18.  35.  27.]\n",
      " [ 22.  25.  37.   1.]\n",
      " [ 40.  27.  45. 115.]]\n",
      "\n",
      "False \n",
      "\n",
      "Need to run again as all the random matrices were non diagonal dominant\n"
     ]
    }
   ],
   "source": [
    "# matrix,m_flag = random_matrix(n)\n",
    "mat = generateRandomMatrix(n)\n",
    "flag = isDDM(mat,n)\n",
    "print (flag,\"\\n\")\n",
    "if(flag):\n",
    "    I_L_Inverse_U = calculate_iteration_matrix(mat,n)\n",
    "    calculate_norm(I_L_Inverse_U)\n",
    "else:\n",
    "    print(\"Need to run again as all the random matrices were non diagonal dominant\")"
   ]
  },
  {
   "cell_type": "code",
   "execution_count": 22,
   "metadata": {},
   "outputs": [
    {
     "name": "stdout",
     "output_type": "stream",
     "text": [
      "input A : \n",
      " [[ 83.  32.  11.  24.]\n",
      " [ 19.  19.  15.  20.]\n",
      " [ 36.  24. 141.  48.]\n",
      " [ 23.  26.  35.  98.]]\n",
      "\n",
      "L :\n",
      " [[0.         0.         0.         0.        ]\n",
      " [1.         0.         0.         0.        ]\n",
      " [0.25531915 0.17021277 0.         0.        ]\n",
      " [0.23469388 0.26530612 0.35714286 0.        ]] \n",
      "\n",
      "U:\n",
      " [[0.         0.38554217 0.13253012 0.28915663]\n",
      " [0.         0.         0.78947368 1.05263158]\n",
      " [0.         0.         0.         0.34042553]\n",
      " [0.         0.         0.         0.        ]] \n",
      "\n",
      "I:\n",
      " [[1. 0. 0. 0.]\n",
      " [0. 1. 0. 0.]\n",
      " [0. 0. 1. 0.]\n",
      " [0. 0. 0. 1.]] \n",
      "\n",
      "Iteration matrix:\n",
      " [[-0.         -0.38554217 -0.13253012 -0.28915663]\n",
      " [-0.          0.38554217 -0.65694356 -0.76347495]\n",
      " [-0.          0.0328121   0.14565766 -0.13664512]\n",
      " [-0.         -0.02352092  0.15337457  0.3192197 ]] \n",
      "\n",
      "supermum norm \t\t 1.8059606848446417\n",
      "l2 norm \t\t 1.2569300095242912\n",
      "l1 norm \t\t 1.5084964030539967\n"
     ]
    }
   ],
   "source": [
    "mat = generateRandomMatrix(n)\n",
    "I_L_Inverse_U = calculate_iteration_matrix(mat,n)\n",
    "calculate_norm(I_L_Inverse_U)"
   ]
  },
  {
   "cell_type": "code",
   "execution_count": null,
   "metadata": {},
   "outputs": [],
   "source": []
  }
 ],
 "metadata": {
  "kernelspec": {
   "display_name": "Python 3",
   "language": "python",
   "name": "python3"
  },
  "language_info": {
   "codemirror_mode": {
    "name": "ipython",
    "version": 3
   },
   "file_extension": ".py",
   "mimetype": "text/x-python",
   "name": "python",
   "nbconvert_exporter": "python",
   "pygments_lexer": "ipython3",
   "version": "3.7.4"
  }
 },
 "nbformat": 4,
 "nbformat_minor": 2
}
