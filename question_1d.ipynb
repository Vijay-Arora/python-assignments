{
 "cells": [
  {
   "cell_type": "code",
   "execution_count": 1,
   "metadata": {},
   "outputs": [],
   "source": [
    "from numpy import *\n",
    "import numpy as np\n",
    "import time\n",
    "from copy import copy, deepcopy\n",
    "import pandas as pd"
   ]
  },
  {
   "cell_type": "code",
   "execution_count": 2,
   "metadata": {},
   "outputs": [],
   "source": [
    "def dsig(value, sig_digits):\n",
    "    if value == 0:\n",
    "        return 0\n",
    "    return value"
   ]
  },
  {
   "cell_type": "code",
   "execution_count": null,
   "metadata": {},
   "outputs": [],
   "source": [
    "#generate test data"
   ]
  },
  {
   "cell_type": "code",
   "execution_count": 3,
   "metadata": {},
   "outputs": [],
   "source": [
    "test_data_range=1100"
   ]
  },
  {
   "cell_type": "code",
   "execution_count": 4,
   "metadata": {},
   "outputs": [],
   "source": [
    "def generate_test_data(test_range):\n",
    "    test_cases = {}\n",
    "    for case in range(100, test_range, 100):\n",
    "        matrix_A = [[dsig(random.random(), sig_digits=5) for _ in range(case)]for _ in range(case)]\n",
    "        matrix_b = [dsig(random.random(), sig_digits=5) for _ in range(case)]\n",
    "        test_cases[case] = {'matrix_A': matrix_A, 'matrix_b': matrix_b}\n",
    "\n",
    "    return test_cases"
   ]
  },
  {
   "cell_type": "code",
   "execution_count": 5,
   "metadata": {},
   "outputs": [
    {
     "name": "stdout",
     "output_type": "stream",
     "text": [
      "100\n",
      "matrix_A: 100 * 100\n",
      "matrix_b: 100\n",
      "------------------------------\n",
      "200\n",
      "matrix_A: 200 * 200\n",
      "matrix_b: 200\n",
      "------------------------------\n",
      "300\n",
      "matrix_A: 300 * 300\n",
      "matrix_b: 300\n",
      "------------------------------\n",
      "400\n",
      "matrix_A: 400 * 400\n",
      "matrix_b: 400\n",
      "------------------------------\n",
      "500\n",
      "matrix_A: 500 * 500\n",
      "matrix_b: 500\n",
      "------------------------------\n",
      "600\n",
      "matrix_A: 600 * 600\n",
      "matrix_b: 600\n",
      "------------------------------\n",
      "700\n",
      "matrix_A: 700 * 700\n",
      "matrix_b: 700\n",
      "------------------------------\n",
      "800\n",
      "matrix_A: 800 * 800\n",
      "matrix_b: 800\n",
      "------------------------------\n",
      "900\n",
      "matrix_A: 900 * 900\n",
      "matrix_b: 900\n",
      "------------------------------\n",
      "1000\n",
      "matrix_A: 1000 * 1000\n",
      "matrix_b: 1000\n",
      "------------------------------\n"
     ]
    }
   ],
   "source": [
    "test_suit = generate_test_data(test_data_range)\n",
    "for each_case in test_suit.items():\n",
    "    print(each_case[0])\n",
    "    print(f\"matrix_A: {len(each_case[1]['matrix_A'])} * {len(each_case[1]['matrix_A'][0])}\")\n",
    "    print(f\"matrix_b: {len(each_case[1]['matrix_b'])}\")\n",
    "    print(\"-\"*30)"
   ]
  },
  {
   "cell_type": "code",
   "execution_count": null,
   "metadata": {},
   "outputs": [],
   "source": [
    "#without pivoting"
   ]
  },
  {
   "cell_type": "code",
   "execution_count": 40,
   "metadata": {},
   "outputs": [],
   "source": [
    "def forward_elimination(A,b,n,digit):\n",
    "    #forward elimination\n",
    "    for k in range (0,n-1):             #row is k\n",
    "        for i in range(k+1,n):\n",
    "            factor=A[i,k] / A[k,k]\n",
    "            A[i][k]=0\n",
    "            for j in range(k+1,n):\n",
    "                A[i,j]=A[i,j]-(factor*A[k,j])\n",
    "            b[i]=b[i]-(factor*b[k])"
   ]
  },
  {
   "cell_type": "code",
   "execution_count": 41,
   "metadata": {},
   "outputs": [],
   "source": [
    "def backward_sub(A,b,n,digit):\n",
    "    x=np.zeros(n)\n",
    "    x[n-1] = b[n-1]/A[n-1,n-1]\n",
    "    for row in range(n-2,-1,-1):\n",
    "        sum = b[row]\n",
    "        for j in range(row+1,n):\n",
    "            sum=sum -(A[row,j] * x[j])\n",
    "        x[row]=sum/A[row,row]"
   ]
  },
  {
   "cell_type": "code",
   "execution_count": 42,
   "metadata": {},
   "outputs": [],
   "source": [
    "def gauss_without_pivoting(A,b,digit):\n",
    "    A = np.array(A)\n",
    "    b = np.array(b)\n",
    "    matrixA = np.matrix.copy(A)\n",
    "    matrixb = np.matrix.copy(b)\n",
    "    n=len(b)\n",
    "    forward_elimination(A,b,n,digit)\n",
    "    backward_sub(matrixA,matrixb,n,digit)"
   ]
  },
  {
   "cell_type": "code",
   "execution_count": 43,
   "metadata": {},
   "outputs": [
    {
     "name": "stdout",
     "output_type": "stream",
     "text": [
      "100\n",
      "0.5410478115081787\n",
      "++++++++++++++++++++++++++++++ \n",
      "\n",
      "\n",
      "200\n",
      "3.6659600734710693\n",
      "++++++++++++++++++++++++++++++ \n",
      "\n",
      "\n",
      "300\n",
      "11.300911664962769\n",
      "++++++++++++++++++++++++++++++ \n",
      "\n",
      "\n",
      "400\n",
      "27.304182052612305\n",
      "++++++++++++++++++++++++++++++ \n",
      "\n",
      "\n",
      "500\n",
      "56.21130561828613\n",
      "++++++++++++++++++++++++++++++ \n",
      "\n",
      "\n",
      "600\n",
      "125.85508751869202\n",
      "++++++++++++++++++++++++++++++ \n",
      "\n",
      "\n",
      "700\n"
     ]
    },
    {
     "ename": "KeyboardInterrupt",
     "evalue": "",
     "output_type": "error",
     "traceback": [
      "\u001b[1;31m---------------------------------------------------------------------------\u001b[0m",
      "\u001b[1;31mKeyboardInterrupt\u001b[0m                         Traceback (most recent call last)",
      "\u001b[1;32m<ipython-input-43-99874d011192>\u001b[0m in \u001b[0;36m<module>\u001b[1;34m\u001b[0m\n\u001b[0;32m      3\u001b[0m     \u001b[0mprint\u001b[0m\u001b[1;33m(\u001b[0m\u001b[0mcase_key\u001b[0m\u001b[1;33m)\u001b[0m\u001b[1;33m\u001b[0m\u001b[1;33m\u001b[0m\u001b[0m\n\u001b[0;32m      4\u001b[0m     \u001b[0mst_time\u001b[0m \u001b[1;33m=\u001b[0m \u001b[0mtime\u001b[0m\u001b[1;33m.\u001b[0m\u001b[0mtime\u001b[0m\u001b[1;33m(\u001b[0m\u001b[1;33m)\u001b[0m\u001b[1;33m\u001b[0m\u001b[1;33m\u001b[0m\u001b[0m\n\u001b[1;32m----> 5\u001b[1;33m     \u001b[0mgauss_without_pivoting\u001b[0m\u001b[1;33m(\u001b[0m\u001b[0mA\u001b[0m \u001b[1;33m=\u001b[0m \u001b[0mdeepcopy\u001b[0m\u001b[1;33m(\u001b[0m\u001b[0meach_case\u001b[0m\u001b[1;33m[\u001b[0m\u001b[1;34m'matrix_A'\u001b[0m\u001b[1;33m]\u001b[0m\u001b[1;33m)\u001b[0m\u001b[1;33m,\u001b[0m \u001b[0mb\u001b[0m \u001b[1;33m=\u001b[0m \u001b[0mdeepcopy\u001b[0m\u001b[1;33m(\u001b[0m\u001b[0meach_case\u001b[0m\u001b[1;33m[\u001b[0m\u001b[1;34m'matrix_b'\u001b[0m\u001b[1;33m]\u001b[0m\u001b[1;33m)\u001b[0m\u001b[1;33m,\u001b[0m \u001b[0mdigit\u001b[0m\u001b[1;33m=\u001b[0m\u001b[1;36m5\u001b[0m\u001b[1;33m)\u001b[0m\u001b[1;33m\u001b[0m\u001b[1;33m\u001b[0m\u001b[0m\n\u001b[0m\u001b[0;32m      6\u001b[0m     \u001b[0mtime_taken\u001b[0m \u001b[1;33m=\u001b[0m \u001b[0mtime\u001b[0m\u001b[1;33m.\u001b[0m\u001b[0mtime\u001b[0m\u001b[1;33m(\u001b[0m\u001b[1;33m)\u001b[0m \u001b[1;33m-\u001b[0m \u001b[0mst_time\u001b[0m\u001b[1;33m\u001b[0m\u001b[1;33m\u001b[0m\u001b[0m\n\u001b[0;32m      7\u001b[0m     \u001b[0meach_case\u001b[0m\u001b[1;33m[\u001b[0m\u001b[1;34m'without_pivoting_time_taken'\u001b[0m\u001b[1;33m]\u001b[0m \u001b[1;33m=\u001b[0m \u001b[0mtime_taken\u001b[0m\u001b[1;33m\u001b[0m\u001b[1;33m\u001b[0m\u001b[0m\n",
      "\u001b[1;32m<ipython-input-42-feca2d23eb3b>\u001b[0m in \u001b[0;36mgauss_without_pivoting\u001b[1;34m(A, b, digit)\u001b[0m\n\u001b[0;32m      5\u001b[0m     \u001b[0mmatrixb\u001b[0m \u001b[1;33m=\u001b[0m \u001b[0mnp\u001b[0m\u001b[1;33m.\u001b[0m\u001b[0mmatrix\u001b[0m\u001b[1;33m.\u001b[0m\u001b[0mcopy\u001b[0m\u001b[1;33m(\u001b[0m\u001b[0mb\u001b[0m\u001b[1;33m)\u001b[0m\u001b[1;33m\u001b[0m\u001b[1;33m\u001b[0m\u001b[0m\n\u001b[0;32m      6\u001b[0m     \u001b[0mn\u001b[0m\u001b[1;33m=\u001b[0m\u001b[0mlen\u001b[0m\u001b[1;33m(\u001b[0m\u001b[0mb\u001b[0m\u001b[1;33m)\u001b[0m\u001b[1;33m\u001b[0m\u001b[1;33m\u001b[0m\u001b[0m\n\u001b[1;32m----> 7\u001b[1;33m     \u001b[0mforward_elimination\u001b[0m\u001b[1;33m(\u001b[0m\u001b[0mA\u001b[0m\u001b[1;33m,\u001b[0m\u001b[0mb\u001b[0m\u001b[1;33m,\u001b[0m\u001b[0mn\u001b[0m\u001b[1;33m,\u001b[0m\u001b[0mdigit\u001b[0m\u001b[1;33m)\u001b[0m\u001b[1;33m\u001b[0m\u001b[1;33m\u001b[0m\u001b[0m\n\u001b[0m\u001b[0;32m      8\u001b[0m     \u001b[0mbackward_sub\u001b[0m\u001b[1;33m(\u001b[0m\u001b[0mmatrixA\u001b[0m\u001b[1;33m,\u001b[0m\u001b[0mmatrixb\u001b[0m\u001b[1;33m,\u001b[0m\u001b[0mn\u001b[0m\u001b[1;33m,\u001b[0m\u001b[0mdigit\u001b[0m\u001b[1;33m)\u001b[0m\u001b[1;33m\u001b[0m\u001b[1;33m\u001b[0m\u001b[0m\n",
      "\u001b[1;32m<ipython-input-40-8cbf808d9b93>\u001b[0m in \u001b[0;36mforward_elimination\u001b[1;34m(A, b, n, digit)\u001b[0m\n\u001b[0;32m      6\u001b[0m             \u001b[0mA\u001b[0m\u001b[1;33m[\u001b[0m\u001b[0mi\u001b[0m\u001b[1;33m]\u001b[0m\u001b[1;33m[\u001b[0m\u001b[0mk\u001b[0m\u001b[1;33m]\u001b[0m\u001b[1;33m=\u001b[0m\u001b[1;36m0\u001b[0m\u001b[1;33m\u001b[0m\u001b[1;33m\u001b[0m\u001b[0m\n\u001b[0;32m      7\u001b[0m             \u001b[1;32mfor\u001b[0m \u001b[0mj\u001b[0m \u001b[1;32min\u001b[0m \u001b[0mrange\u001b[0m\u001b[1;33m(\u001b[0m\u001b[0mk\u001b[0m\u001b[1;33m+\u001b[0m\u001b[1;36m1\u001b[0m\u001b[1;33m,\u001b[0m\u001b[0mn\u001b[0m\u001b[1;33m)\u001b[0m\u001b[1;33m:\u001b[0m\u001b[1;33m\u001b[0m\u001b[1;33m\u001b[0m\u001b[0m\n\u001b[1;32m----> 8\u001b[1;33m                 \u001b[0mA\u001b[0m\u001b[1;33m[\u001b[0m\u001b[0mi\u001b[0m\u001b[1;33m,\u001b[0m\u001b[0mj\u001b[0m\u001b[1;33m]\u001b[0m\u001b[1;33m=\u001b[0m\u001b[0mA\u001b[0m\u001b[1;33m[\u001b[0m\u001b[0mi\u001b[0m\u001b[1;33m,\u001b[0m\u001b[0mj\u001b[0m\u001b[1;33m]\u001b[0m\u001b[1;33m-\u001b[0m\u001b[1;33m(\u001b[0m\u001b[0mfactor\u001b[0m\u001b[1;33m*\u001b[0m\u001b[0mA\u001b[0m\u001b[1;33m[\u001b[0m\u001b[0mk\u001b[0m\u001b[1;33m,\u001b[0m\u001b[0mj\u001b[0m\u001b[1;33m]\u001b[0m\u001b[1;33m)\u001b[0m\u001b[1;33m\u001b[0m\u001b[1;33m\u001b[0m\u001b[0m\n\u001b[0m\u001b[0;32m      9\u001b[0m             \u001b[0mb\u001b[0m\u001b[1;33m[\u001b[0m\u001b[0mi\u001b[0m\u001b[1;33m]\u001b[0m\u001b[1;33m=\u001b[0m\u001b[0mb\u001b[0m\u001b[1;33m[\u001b[0m\u001b[0mi\u001b[0m\u001b[1;33m]\u001b[0m\u001b[1;33m-\u001b[0m\u001b[1;33m(\u001b[0m\u001b[0mfactor\u001b[0m\u001b[1;33m*\u001b[0m\u001b[0mb\u001b[0m\u001b[1;33m[\u001b[0m\u001b[0mk\u001b[0m\u001b[1;33m]\u001b[0m\u001b[1;33m)\u001b[0m\u001b[1;33m\u001b[0m\u001b[1;33m\u001b[0m\u001b[0m\n",
      "\u001b[1;31mKeyboardInterrupt\u001b[0m: "
     ]
    }
   ],
   "source": [
    "time_taken = {}\n",
    "for case_key, each_case in test_suit.items():\n",
    "    print(case_key)\n",
    "    st_time = time.time()\n",
    "    gauss_without_pivoting(A = deepcopy(each_case['matrix_A']), b = deepcopy(each_case['matrix_b']), digit=5)\n",
    "    time_taken = time.time() - st_time\n",
    "    each_case['without_pivoting_time_taken'] = time_taken\n",
    "    print(each_case['without_pivoting_time_taken'])\n",
    "    print(\"+\"*30, \"\\n\\n\")"
   ]
  },
  {
   "cell_type": "code",
   "execution_count": null,
   "metadata": {},
   "outputs": [],
   "source": [
    "#with_pivoting"
   ]
  },
  {
   "cell_type": "code",
   "execution_count": 19,
   "metadata": {},
   "outputs": [],
   "source": [
    "def forward_with_pivoting(A,b,n,digit):        \n",
    "    #forward elimination\n",
    "    for k in range (0,n-1):             #row is k\n",
    "        for s in range (k+1,n):\n",
    "            if (abs(A[s][k]) > abs(A[k][k])):\n",
    "                temp = np.copy(A[k])\n",
    "                A[k] = A[s]\n",
    "                A[s] = temp\n",
    "            factor=A[s,k] / A[k,k]\n",
    "            A[s][k]=0\n",
    "            for j in range(k+1,n):\n",
    "                A[s,j]=A[s,j]-(factor*A[k,j])\n",
    "            b[s]=b[s]-(factor*b[k])"
   ]
  },
  {
   "cell_type": "code",
   "execution_count": 20,
   "metadata": {},
   "outputs": [],
   "source": [
    "def backward_with_pivoting(A,b,n,digit):\n",
    "    x=np.zeros(n)\n",
    "    x[n-1] = b[n-1]/A[n-1,n-1]\n",
    "    for row in range(n-2,-1,-1):\n",
    "        sum = b[row]\n",
    "        for j in range(row+1,n):\n",
    "            sum=sum -(A[row,j] * x[j])\n",
    "        x[row]=sum/A[row,row]"
   ]
  },
  {
   "cell_type": "code",
   "execution_count": 21,
   "metadata": {},
   "outputs": [],
   "source": [
    "def gauss_with_pivoting(A,b,digit):\n",
    "    A = np.array(A)\n",
    "    b = np.array(b)\n",
    "    matrixA = np.matrix.copy(A)\n",
    "    matrixb = np.matrix.copy(b)\n",
    "    n=len(b)\n",
    "    forward_with_pivoting(A,b,n,digit)\n",
    "    backward_with_pivoting(matrixA,matrixb,n,digit)"
   ]
  },
  {
   "cell_type": "code",
   "execution_count": 22,
   "metadata": {},
   "outputs": [
    {
     "name": "stdout",
     "output_type": "stream",
     "text": [
      "100\n",
      "0.6138951778411865\n",
      "++++++++++++++++++++++++++++++ \n",
      "\n",
      "\n",
      "200\n",
      "2.905214548110962\n",
      "++++++++++++++++++++++++++++++ \n",
      "\n",
      "\n",
      "300\n",
      "9.282733678817749\n",
      "++++++++++++++++++++++++++++++ \n",
      "\n",
      "\n",
      "400\n",
      "23.88886785507202\n",
      "++++++++++++++++++++++++++++++ \n",
      "\n",
      "\n",
      "500\n",
      "41.356865882873535\n",
      "++++++++++++++++++++++++++++++ \n",
      "\n",
      "\n",
      "600\n",
      "69.28981804847717\n",
      "++++++++++++++++++++++++++++++ \n",
      "\n",
      "\n",
      "700\n",
      "101.96471977233887\n",
      "++++++++++++++++++++++++++++++ \n",
      "\n",
      "\n",
      "800\n",
      "161.20420670509338\n",
      "++++++++++++++++++++++++++++++ \n",
      "\n",
      "\n",
      "900\n",
      "215.98686337471008\n",
      "++++++++++++++++++++++++++++++ \n",
      "\n",
      "\n",
      "1000\n",
      "305.5670003890991\n",
      "++++++++++++++++++++++++++++++ \n",
      "\n",
      "\n"
     ]
    }
   ],
   "source": [
    "time_taken = {}\n",
    "for case_key, each_case in test_suit.items():\n",
    "    print(case_key)\n",
    "    st_time = time.time()\n",
    "    solution = gauss_with_pivoting(A = deepcopy(each_case['matrix_A']), b = deepcopy(each_case['matrix_b']), digit=5)\n",
    "    time_taken = time.time() - st_time\n",
    "    each_case['with_pivoting_time_taken'] = time_taken\n",
    "    print(each_case['with_pivoting_time_taken'])\n",
    "    print(\"+\"*30, \"\\n\\n\")"
   ]
  },
  {
   "cell_type": "code",
   "execution_count": 25,
   "metadata": {},
   "outputs": [],
   "source": [
    "def guass_theoretical_time(n: int):\n",
    "    \"\"\"\n",
    "    n: Number of row / columns in a square matrix\n",
    "    \"\"\"\n",
    "    # Operation count for addition\n",
    "    ref_addition = int((n*(n+1)*(2*n+1))/ 6) # Number of addition for REF\n",
    "    backsub_addition = int((n * (n - 1)) / 2)\n",
    "    total_addition = ref_addition + backsub_addition\n",
    "    \n",
    "    # Operation count for multiplication\n",
    "    total_multiplication = total_addition # Same as addition\n",
    "    \n",
    "    # Operation count for division\n",
    "    ref_division = int((n * (n-1)) / 2)\n",
    "    backsub_division = n\n",
    "    total_division = ref_division + backsub_division\n",
    "\n",
    "    operation_count = {\n",
    "        'addition': total_addition,\n",
    "        'multiplication': total_multiplication,\n",
    "        'division': total_division\n",
    "    }\n",
    "    # Summarize\n",
    "    theory_time = (total_addition*(0.0000001326451301574707))+(total_multiplication*(0.0000002383575439453125))+(total_division*(0.0000002373650074005127))\n",
    "#     theory_time = (total_addition*100.7649)+(total_multiplication*219.9155)+(total_division*230.5042)\n",
    "#     theory_time = (theory_time_ns*(10**-9))\n",
    "    return theory_time\n",
    "    "
   ]
  },
  {
   "cell_type": "code",
   "execution_count": 26,
   "metadata": {},
   "outputs": [
    {
     "name": "stdout",
     "output_type": "stream",
     "text": [
      "100\n",
      "0.12856391130685807\n",
      "============================== \n",
      "\n",
      "200\n",
      "1.0089268743753435\n",
      "============================== \n",
      "\n",
      "300\n",
      "3.383094237411022\n",
      "============================== \n",
      "\n",
      "400\n",
      "7.993071348619462\n",
      "============================== \n",
      "\n",
      "500\n",
      "15.580863556206227\n",
      "============================== \n",
      "\n",
      "600\n",
      "26.888476208376883\n",
      "============================== \n",
      "\n",
      "700\n",
      "42.657914653337\n",
      "============================== \n",
      "\n",
      "800\n",
      "63.631184239292146\n",
      "============================== \n",
      "\n",
      "900\n",
      "90.55029031444789\n",
      "============================== \n",
      "\n",
      "1000\n",
      "124.15723822700976\n",
      "============================== \n",
      "\n"
     ]
    }
   ],
   "source": [
    "for case_id, each_case in test_suit.items():\n",
    "    print(case_id)\n",
    "    print(guass_theoretical_time(n=case_id))\n",
    "    print(\"=\"*30, \"\\n\")\n",
    "    theo_time = guass_theoretical_time(n=case_id)\n",
    "    each_case['theoretical_time'] = theo_time"
   ]
  },
  {
   "cell_type": "code",
   "execution_count": 28,
   "metadata": {},
   "outputs": [
    {
     "data": {
      "text/html": [
       "<div>\n",
       "<style scoped>\n",
       "    .dataframe tbody tr th:only-of-type {\n",
       "        vertical-align: middle;\n",
       "    }\n",
       "\n",
       "    .dataframe tbody tr th {\n",
       "        vertical-align: top;\n",
       "    }\n",
       "\n",
       "    .dataframe thead th {\n",
       "        text-align: right;\n",
       "    }\n",
       "</style>\n",
       "<table border=\"1\" class=\"dataframe\">\n",
       "  <thead>\n",
       "    <tr style=\"text-align: right;\">\n",
       "      <th></th>\n",
       "      <th>test_case</th>\n",
       "      <th>with_pivoting_time_taken</th>\n",
       "      <th>without_pivoting_time_taken</th>\n",
       "      <th>theoretical_time</th>\n",
       "    </tr>\n",
       "  </thead>\n",
       "  <tbody>\n",
       "    <tr>\n",
       "      <td>0</td>\n",
       "      <td>100</td>\n",
       "      <td>0.613895</td>\n",
       "      <td>0.439973</td>\n",
       "      <td>0.128564</td>\n",
       "    </tr>\n",
       "    <tr>\n",
       "      <td>1</td>\n",
       "      <td>200</td>\n",
       "      <td>2.905215</td>\n",
       "      <td>3.591552</td>\n",
       "      <td>1.008927</td>\n",
       "    </tr>\n",
       "    <tr>\n",
       "      <td>2</td>\n",
       "      <td>300</td>\n",
       "      <td>9.282734</td>\n",
       "      <td>13.785095</td>\n",
       "      <td>3.383094</td>\n",
       "    </tr>\n",
       "    <tr>\n",
       "      <td>3</td>\n",
       "      <td>400</td>\n",
       "      <td>23.888868</td>\n",
       "      <td>27.448293</td>\n",
       "      <td>7.993071</td>\n",
       "    </tr>\n",
       "    <tr>\n",
       "      <td>4</td>\n",
       "      <td>500</td>\n",
       "      <td>41.356866</td>\n",
       "      <td>49.886275</td>\n",
       "      <td>15.580864</td>\n",
       "    </tr>\n",
       "    <tr>\n",
       "      <td>5</td>\n",
       "      <td>600</td>\n",
       "      <td>69.289818</td>\n",
       "      <td>83.665443</td>\n",
       "      <td>26.888476</td>\n",
       "    </tr>\n",
       "    <tr>\n",
       "      <td>6</td>\n",
       "      <td>700</td>\n",
       "      <td>101.964720</td>\n",
       "      <td>131.391162</td>\n",
       "      <td>42.657915</td>\n",
       "    </tr>\n",
       "    <tr>\n",
       "      <td>7</td>\n",
       "      <td>800</td>\n",
       "      <td>161.204207</td>\n",
       "      <td>193.285756</td>\n",
       "      <td>63.631184</td>\n",
       "    </tr>\n",
       "    <tr>\n",
       "      <td>8</td>\n",
       "      <td>900</td>\n",
       "      <td>215.986863</td>\n",
       "      <td>310.580924</td>\n",
       "      <td>90.550290</td>\n",
       "    </tr>\n",
       "    <tr>\n",
       "      <td>9</td>\n",
       "      <td>1000</td>\n",
       "      <td>305.567000</td>\n",
       "      <td>420.086969</td>\n",
       "      <td>124.157238</td>\n",
       "    </tr>\n",
       "  </tbody>\n",
       "</table>\n",
       "</div>"
      ],
      "text/plain": [
       "   test_case  with_pivoting_time_taken  without_pivoting_time_taken  \\\n",
       "0        100                  0.613895                     0.439973   \n",
       "1        200                  2.905215                     3.591552   \n",
       "2        300                  9.282734                    13.785095   \n",
       "3        400                 23.888868                    27.448293   \n",
       "4        500                 41.356866                    49.886275   \n",
       "5        600                 69.289818                    83.665443   \n",
       "6        700                101.964720                   131.391162   \n",
       "7        800                161.204207                   193.285756   \n",
       "8        900                215.986863                   310.580924   \n",
       "9       1000                305.567000                   420.086969   \n",
       "\n",
       "   theoretical_time  \n",
       "0          0.128564  \n",
       "1          1.008927  \n",
       "2          3.383094  \n",
       "3          7.993071  \n",
       "4         15.580864  \n",
       "5         26.888476  \n",
       "6         42.657915  \n",
       "7         63.631184  \n",
       "8         90.550290  \n",
       "9        124.157238  "
      ]
     },
     "execution_count": 28,
     "metadata": {},
     "output_type": "execute_result"
    }
   ],
   "source": [
    "eff = {'test_case': [], 'with_pivoting_time_taken': [], 'without_pivoting_time_taken': [],'theoretical_time': []}\n",
    "\n",
    "for k, v in test_suit.items():\n",
    "    eff['test_case'].append(k)\n",
    "    eff['with_pivoting_time_taken'].append(v['with_pivoting_time_taken'])\n",
    "    eff['without_pivoting_time_taken'].append(v['without_pivoting_time_taken'])\n",
    "    eff['theoretical_time'].append(v['theoretical_time'])\n",
    "    \n",
    "efficiency_df = pd.DataFrame(eff)\n",
    "efficiency_df"
   ]
  },
  {
   "cell_type": "code",
   "execution_count": 29,
   "metadata": {},
   "outputs": [
    {
     "data": {
      "text/html": [
       "<div>\n",
       "<style scoped>\n",
       "    .dataframe tbody tr th:only-of-type {\n",
       "        vertical-align: middle;\n",
       "    }\n",
       "\n",
       "    .dataframe tbody tr th {\n",
       "        vertical-align: top;\n",
       "    }\n",
       "\n",
       "    .dataframe thead th {\n",
       "        text-align: right;\n",
       "    }\n",
       "</style>\n",
       "<table border=\"1\" class=\"dataframe\">\n",
       "  <thead>\n",
       "    <tr style=\"text-align: right;\">\n",
       "      <th></th>\n",
       "      <th>test_case</th>\n",
       "      <th>with_pivoting_time_taken</th>\n",
       "      <th>without_pivoting_time_taken</th>\n",
       "      <th>theoretical_time</th>\n",
       "      <th>log_n</th>\n",
       "      <th>log_with_pivoting_time_taken</th>\n",
       "      <th>log_without_pivoting_time_taken</th>\n",
       "    </tr>\n",
       "  </thead>\n",
       "  <tbody>\n",
       "    <tr>\n",
       "      <td>0</td>\n",
       "      <td>100</td>\n",
       "      <td>0.613895</td>\n",
       "      <td>0.439973</td>\n",
       "      <td>0.128564</td>\n",
       "      <td>4.605170</td>\n",
       "      <td>-0.487931</td>\n",
       "      <td>-0.821042</td>\n",
       "    </tr>\n",
       "    <tr>\n",
       "      <td>1</td>\n",
       "      <td>200</td>\n",
       "      <td>2.905215</td>\n",
       "      <td>3.591552</td>\n",
       "      <td>1.008927</td>\n",
       "      <td>5.298317</td>\n",
       "      <td>1.066507</td>\n",
       "      <td>1.278584</td>\n",
       "    </tr>\n",
       "    <tr>\n",
       "      <td>2</td>\n",
       "      <td>300</td>\n",
       "      <td>9.282734</td>\n",
       "      <td>13.785095</td>\n",
       "      <td>3.383094</td>\n",
       "      <td>5.703782</td>\n",
       "      <td>2.228156</td>\n",
       "      <td>2.623588</td>\n",
       "    </tr>\n",
       "    <tr>\n",
       "      <td>3</td>\n",
       "      <td>400</td>\n",
       "      <td>23.888868</td>\n",
       "      <td>27.448293</td>\n",
       "      <td>7.993071</td>\n",
       "      <td>5.991465</td>\n",
       "      <td>3.173413</td>\n",
       "      <td>3.312304</td>\n",
       "    </tr>\n",
       "    <tr>\n",
       "      <td>4</td>\n",
       "      <td>500</td>\n",
       "      <td>41.356866</td>\n",
       "      <td>49.886275</td>\n",
       "      <td>15.580864</td>\n",
       "      <td>6.214608</td>\n",
       "      <td>3.722238</td>\n",
       "      <td>3.909746</td>\n",
       "    </tr>\n",
       "    <tr>\n",
       "      <td>5</td>\n",
       "      <td>600</td>\n",
       "      <td>69.289818</td>\n",
       "      <td>83.665443</td>\n",
       "      <td>26.888476</td>\n",
       "      <td>6.396930</td>\n",
       "      <td>4.238298</td>\n",
       "      <td>4.426826</td>\n",
       "    </tr>\n",
       "    <tr>\n",
       "      <td>6</td>\n",
       "      <td>700</td>\n",
       "      <td>101.964720</td>\n",
       "      <td>131.391162</td>\n",
       "      <td>42.657915</td>\n",
       "      <td>6.551080</td>\n",
       "      <td>4.624627</td>\n",
       "      <td>4.878179</td>\n",
       "    </tr>\n",
       "    <tr>\n",
       "      <td>7</td>\n",
       "      <td>800</td>\n",
       "      <td>161.204207</td>\n",
       "      <td>193.285756</td>\n",
       "      <td>63.631184</td>\n",
       "      <td>6.684612</td>\n",
       "      <td>5.082672</td>\n",
       "      <td>5.264170</td>\n",
       "    </tr>\n",
       "    <tr>\n",
       "      <td>8</td>\n",
       "      <td>900</td>\n",
       "      <td>215.986863</td>\n",
       "      <td>310.580924</td>\n",
       "      <td>90.550290</td>\n",
       "      <td>6.802395</td>\n",
       "      <td>5.375218</td>\n",
       "      <td>5.738444</td>\n",
       "    </tr>\n",
       "    <tr>\n",
       "      <td>9</td>\n",
       "      <td>1000</td>\n",
       "      <td>305.567000</td>\n",
       "      <td>420.086969</td>\n",
       "      <td>124.157238</td>\n",
       "      <td>6.907755</td>\n",
       "      <td>5.722169</td>\n",
       "      <td>6.040462</td>\n",
       "    </tr>\n",
       "  </tbody>\n",
       "</table>\n",
       "</div>"
      ],
      "text/plain": [
       "   test_case  with_pivoting_time_taken  without_pivoting_time_taken  \\\n",
       "0        100                  0.613895                     0.439973   \n",
       "1        200                  2.905215                     3.591552   \n",
       "2        300                  9.282734                    13.785095   \n",
       "3        400                 23.888868                    27.448293   \n",
       "4        500                 41.356866                    49.886275   \n",
       "5        600                 69.289818                    83.665443   \n",
       "6        700                101.964720                   131.391162   \n",
       "7        800                161.204207                   193.285756   \n",
       "8        900                215.986863                   310.580924   \n",
       "9       1000                305.567000                   420.086969   \n",
       "\n",
       "   theoretical_time     log_n  log_with_pivoting_time_taken  \\\n",
       "0          0.128564  4.605170                     -0.487931   \n",
       "1          1.008927  5.298317                      1.066507   \n",
       "2          3.383094  5.703782                      2.228156   \n",
       "3          7.993071  5.991465                      3.173413   \n",
       "4         15.580864  6.214608                      3.722238   \n",
       "5         26.888476  6.396930                      4.238298   \n",
       "6         42.657915  6.551080                      4.624627   \n",
       "7         63.631184  6.684612                      5.082672   \n",
       "8         90.550290  6.802395                      5.375218   \n",
       "9        124.157238  6.907755                      5.722169   \n",
       "\n",
       "   log_without_pivoting_time_taken  \n",
       "0                        -0.821042  \n",
       "1                         1.278584  \n",
       "2                         2.623588  \n",
       "3                         3.312304  \n",
       "4                         3.909746  \n",
       "5                         4.426826  \n",
       "6                         4.878179  \n",
       "7                         5.264170  \n",
       "8                         5.738444  \n",
       "9                         6.040462  "
      ]
     },
     "execution_count": 29,
     "metadata": {},
     "output_type": "execute_result"
    }
   ],
   "source": [
    "efficiency_df['log_n'] = np.log(efficiency_df['test_case'])\n",
    "efficiency_df['log_with_pivoting_time_taken'] = np.log(efficiency_df['with_pivoting_time_taken'])\n",
    "efficiency_df['log_without_pivoting_time_taken'] = np.log(efficiency_df['without_pivoting_time_taken'])\n",
    "efficiency_df"
   ]
  },
  {
   "cell_type": "code",
   "execution_count": 33,
   "metadata": {},
   "outputs": [
    {
     "data": {
      "text/plain": [
       "<matplotlib.axes._subplots.AxesSubplot at 0x1ea4515e208>"
      ]
     },
     "execution_count": 33,
     "metadata": {},
     "output_type": "execute_result"
    },
    {
     "data": {
      "image/png": "[encoded data removed]",
      "text/plain": [
       "<Figure size 432x288 with 1 Axes>"
      ]
     },
     "metadata": {
      "needs_background": "light"
     },
     "output_type": "display_data"
    }
   ],
   "source": [
    "x = 'log_n'\n",
    "y = 'log_with_pivoting_time_taken'\n",
    "efficiency_df.plot.scatter(x,y,title =\"Gauss Elimination with pivoting\", grid = True,\n",
    "                           xlim = (4.5,7), ylim = (-1,7))"
   ]
  },
  {
   "cell_type": "code",
   "execution_count": 34,
   "metadata": {},
   "outputs": [],
   "source": [
    "def calculate_slope(x: list, y: list):\n",
    "    mean_x = sum(x) / len(x)\n",
    "    mean_y = sum(y) / len(y)\n",
    "    \n",
    "    numerator = sum([(i-mean_x) * (j-mean_y) for i,j in zip(x, y)])\n",
    "    dinominator = sum([(i-mean_x)**2 for i in x])\n",
    "    \n",
    "    return numerator / dinominator\n",
    "\n",
    "\n",
    "def calculate_y_intercept(mean_x, mean_y, m):\n",
    "    return mean_y - (m * mean_x)"
   ]
  },
  {
   "cell_type": "code",
   "execution_count": 35,
   "metadata": {},
   "outputs": [],
   "source": [
    "def roundto_d_significant(value, sig_digits):\n",
    "    if value == 0:\n",
    "        return 0\n",
    "    return round(value, sig_digits - int(math.floor(math.log(abs(value)))) - 1)"
   ]
  },
  {
   "cell_type": "code",
   "execution_count": 36,
   "metadata": {},
   "outputs": [
    {
     "data": {
      "text/plain": [
       "<matplotlib.axes._subplots.AxesSubplot at 0x1ea36638488>"
      ]
     },
     "execution_count": 36,
     "metadata": {},
     "output_type": "execute_result"
    },
    {
     "data": {
      "image/png": "[encoded data removed]",
      "text/plain": [
       "<Figure size 432x288 with 1 Axes>"
      ]
     },
     "metadata": {
      "needs_background": "light"
     },
     "output_type": "display_data"
    }
   ],
   "source": [
    "# Calculating slope and y-intercept\n",
    "m = calculate_slope(x=efficiency_df['log_n'], y=efficiency_df['log_with_pivoting_time_taken'])\n",
    "y_intercept = calculate_y_intercept(mean_x=efficiency_df['log_n'].mean(), \n",
    "                                    mean_y=efficiency_df['log_with_pivoting_time_taken'].mean(),\n",
    "                                    m=m)\n",
    "# Rounding off\n",
    "m = roundto_d_significant(m, sig_digits=5)\n",
    "y_intercept = roundto_d_significant(y_intercept, sig_digits=5)\n",
    "\n",
    "# Fit the line and plot\n",
    "efficiency_df['log_with_pivoting_fitted_y'] = efficiency_df['log_n'].map(lambda x: m * x + y_intercept)\n",
    "ax = efficiency_df.plot.scatter(x = 'log_n', y = 'log_with_pivoting_time_taken', grid = True, \n",
    "                                title = f\"Gauss Elimination with pivoting slope: {m}\",xlim = (4.5,7), ylim = (-1,7))\n",
    "efficiency_df.plot(x = 'log_n', y = 'log_with_pivoting_fitted_y', color='red' ,grid = True,legend=False, ax=ax,\n",
    "                   xlim = (4.5,7), ylim = (-1,7))\n"
   ]
  },
  {
   "cell_type": "code",
   "execution_count": 37,
   "metadata": {},
   "outputs": [
    {
     "data": {
      "text/plain": [
       "<matplotlib.axes._subplots.AxesSubplot at 0x1ea45256e88>"
      ]
     },
     "execution_count": 37,
     "metadata": {},
     "output_type": "execute_result"
    },
    {
     "data": {
      "image/png": "[encoded data removed]",
      "text/plain": [
       "<Figure size 432x288 with 1 Axes>"
      ]
     },
     "metadata": {
      "needs_background": "light"
     },
     "output_type": "display_data"
    }
   ],
   "source": [
    "x = 'log_n'\n",
    "y = 'log_without_pivoting_time_taken'\n",
    "efficiency_df.plot.scatter(x,y, title = \"Gauss Elimination without pivoting\",grid = True,xlim = (4.5,7), ylim = (-1,7))"
   ]
  },
  {
   "cell_type": "code",
   "execution_count": 39,
   "metadata": {},
   "outputs": [
    {
     "data": {
      "text/plain": [
       "<matplotlib.axes._subplots.AxesSubplot at 0x1ea4533ba88>"
      ]
     },
     "execution_count": 39,
     "metadata": {},
     "output_type": "execute_result"
    },
    {
     "data": {
      "image/png": "[encoded data removed]",
      "text/plain": [
       "<Figure size 432x288 with 1 Axes>"
      ]
     },
     "metadata": {
      "needs_background": "light"
     },
     "output_type": "display_data"
    }
   ],
   "source": [
    "# Calculating slope and y-intercept\n",
    "m = calculate_slope(x=efficiency_df['log_n'], y=efficiency_df['log_without_pivoting_time_taken'])\n",
    "y_intercept = calculate_y_intercept(mean_x=efficiency_df['log_n'].mean(), \n",
    "                                    mean_y=efficiency_df['log_without_pivoting_time_taken'].mean(),\n",
    "                                    m=m)\n",
    "# Rounding off\n",
    "m = roundto_d_significant(m, sig_digits=5)\n",
    "y_intercept = roundto_d_significant(y_intercept, sig_digits=5)\n",
    "\n",
    "# Fit the line and plot\n",
    "efficiency_df['log_without_pivoting_fitted_y'] = efficiency_df['log_n'].map(lambda x: m * x + y_intercept)\n",
    "ax = efficiency_df.plot.scatter(x = 'log_n', y = 'log_without_pivoting_time_taken', grid = True, \n",
    "                                title = f\"Gauss Elimination without pivoting slope: {m}\",xlim = (4.5,7), ylim = (-1,7))\n",
    "efficiency_df.plot(x = 'log_n', y = 'log_without_pivoting_fitted_y', color='red' ,grid = True,legend=False, ax=ax\n",
    "                  ,xlim = (4.5,7), ylim = (-1,7))\n"
   ]
  },
  {
   "cell_type": "code",
   "execution_count": null,
   "metadata": {},
   "outputs": [],
   "source": []
  }
 ],
 "metadata": {
  "kernelspec": {
   "display_name": "Python 3",
   "language": "python",
   "name": "python3"
  },
  "language_info": {
   "codemirror_mode": {
    "name": "ipython",
    "version": 3
   },
   "file_extension": ".py",
   "mimetype": "text/x-python",
   "name": "python",
   "nbconvert_exporter": "python",
   "pygments_lexer": "ipython3",
   "version": "3.7.4"
  }
 },
 "nbformat": 4,
 "nbformat_minor": 2
}
