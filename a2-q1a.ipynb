{
 "cells": [
  {
   "cell_type": "code",
   "execution_count": 66,
   "metadata": {},
   "outputs": [],
   "source": [
    "import numpy as np\n",
    "import traceback"
   ]
  },
  {
   "cell_type": "code",
   "execution_count": 67,
   "metadata": {},
   "outputs": [],
   "source": [
    "def getDimension():\n",
    "    try:\n",
    "        m = int(input(\"Enter the row size \").strip())\n",
    "        n = int(input(\"\\nEnter the column size \").strip())\n",
    "    except EOFError:\n",
    "        print(\"There is no input provided by the user, try again! \")\n",
    "    return m,n"
   ]
  },
  {
   "cell_type": "code",
   "execution_count": 68,
   "metadata": {},
   "outputs": [],
   "source": [
    "def printDimension(m,n):\n",
    "    print(\"\\nDimensions of the generated random matrix are {0}x{1}\".format(m,n))"
   ]
  },
  {
   "cell_type": "code",
   "execution_count": 76,
   "metadata": {},
   "outputs": [],
   "source": [
    "def generateRandomMatrix(m,n):\n",
    "    matrix = np.random.rand(m,n)\n",
    "    return matrix"
   ]
  },
  {
   "cell_type": "code",
   "execution_count": 77,
   "metadata": {},
   "outputs": [],
   "source": [
    "def roundoff_dS(value, sig_digits):\n",
    "    if value != 0:\n",
    "        return round(value, sig_digits)\n",
    "    else: \n",
    "        return 0"
   ]
  },
  {
   "cell_type": "code",
   "execution_count": 81,
   "metadata": {},
   "outputs": [
    {
     "name": "stdout",
     "output_type": "stream",
     "text": [
      "[[0.9481 0.0016 0.8473 0.7375]\n",
      " [0.1385 0.1374 0.2475 0.5263]\n",
      " [0.3256 0.5012 0.8355 0.8073]\n",
      " [0.2518 0.7691 0.8159 0.3647]\n",
      " [0.5786 0.8258 0.7534 0.2256]]\n"
     ]
    }
   ],
   "source": [
    "m,n=5,4\n",
    "matrix = np.random.rand(m,n)\n",
    "for i in range(m):\n",
    "    for j in range(n):\n",
    "        matrix[i][j]=roundoff_dS(matrix[i][j],4)\n",
    "print(matrix)"
   ]
  },
  {
   "cell_type": "code",
   "execution_count": 71,
   "metadata": {},
   "outputs": [],
   "source": [
    "def printMatrix(mat):\n",
    "    print('\\n'+'*'*25)\n",
    "    print(\"\\nRandom Matrix Generated\\n\")\n",
    "    print(mat,'\\n')\n",
    "    print('*'*25+'\\n')"
   ]
  },
  {
   "cell_type": "code",
   "execution_count": 72,
   "metadata": {},
   "outputs": [],
   "source": [
    "def calculateNorm(matrix):\n",
    "    pass"
   ]
  },
  {
   "cell_type": "markdown",
   "metadata": {},
   "source": [
    "### Driver Code"
   ]
  },
  {
   "cell_type": "code",
   "execution_count": 75,
   "metadata": {},
   "outputs": [
    {
     "name": "stdin",
     "output_type": "stream",
     "text": [
      "Enter the row size  5\n",
      "\n",
      "Enter the column size  4\n"
     ]
    },
    {
     "name": "stdout",
     "output_type": "stream",
     "text": [
      "\n",
      "Dimensions of the generated random matrix are 5x4\n",
      "\n",
      "Encountered an exception Traceback (most recent call last):\n",
      "  File \"<ipython-input-75-0ef848c09b9d>\", line 5, in <module>\n",
      "    random_matrix = generateRandomMatrix(row,column)\n",
      "  File \"<ipython-input-74-73c90b8ca980>\", line 2, in generateRandomMatrix\n",
      "    matrix = round(np.random.rand(m,n),5)\n",
      "TypeError: type numpy.ndarray doesn't define __round__ method\n",
      " \n",
      "\n"
     ]
    }
   ],
   "source": [
    "try :\n",
    "    row,column = getDimension()\n",
    "    if row>column:\n",
    "        printDimension(row,column)\n",
    "        random_matrix = generateRandomMatrix(row,column)\n",
    "        printMatrix(random_matrix)\n",
    "        calculateNorm(random_matrix)\n",
    "    else:\n",
    "        print(\"\\nRow size should be greater than the column size for the program to run\\n\")\n",
    "        \n",
    "except Exception : \n",
    "    print(\"\\nEncountered an exception\",traceback.format_exc(),\"\\n\")"
   ]
  },
  {
   "cell_type": "code",
   "execution_count": null,
   "metadata": {},
   "outputs": [],
   "source": []
  }
 ],
 "metadata": {
  "kernelspec": {
   "display_name": "Python 3",
   "language": "python",
   "name": "python3"
  },
  "language_info": {
   "codemirror_mode": {
    "name": "ipython",
    "version": 3
   },
   "file_extension": ".py",
   "mimetype": "text/x-python",
   "name": "python",
   "nbconvert_exporter": "python",
   "pygments_lexer": "ipython3",
   "version": "3.7.4"
  }
 },
 "nbformat": 4,
 "nbformat_minor": 4
}
