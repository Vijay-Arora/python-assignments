{
 "cells": [
  {
   "cell_type": "code",
   "execution_count": 3,
   "metadata": {},
   "outputs": [],
   "source": [
    "import time\n",
    "import math"
   ]
  },
  {
   "cell_type": "code",
   "execution_count": 2,
   "metadata": {},
   "outputs": [
    {
     "name": "stdout",
     "output_type": "stream",
     "text": [
      "Total Addition Time is  0.1326451301574707\n",
      "Unit Addition Time is  1.326451301574707e-07\n"
     ]
    }
   ],
   "source": [
    "#addition time\n",
    "start_time,end_time=0,0\n",
    "start_time=time.time()\n",
    "sum=0\n",
    "count=1000000\n",
    "for i in range(1,count+1):\n",
    "    sum+=i\n",
    "    \n",
    "end_time=time.time()\n",
    "total_addtime=end_time-start_time\n",
    "unit_add_time=total_addtime/count\n",
    "print(\"Total Addition Time is \",total_addtime)\n",
    "print(\"Unit Addition Time is \",unit_add_time)"
   ]
  },
  {
   "cell_type": "code",
   "execution_count": 4,
   "metadata": {},
   "outputs": [
    {
     "name": "stdout",
     "output_type": "stream",
     "text": [
      "Total Multiplication Time is  0.2383575439453125\n",
      "Unit Multiplication Time is  2.383575439453125e-07\n"
     ]
    }
   ],
   "source": [
    "#multiplication time\n",
    "start_time,end_time=0,0\n",
    "start_time=time.time()\n",
    "mul=1\n",
    "count=1000000\n",
    "for i in range(1,count+1):\n",
    "    mul=8548457*9549385\n",
    "    \n",
    "end_time=time.time()\n",
    "total_multime=end_time-start_time\n",
    "unit_mul_time=total_multime/count\n",
    "print(\"Total Multiplication Time is \",total_multime)\n",
    "print(\"Unit Multiplication Time is \",unit_mul_time)"
   ]
  },
  {
   "cell_type": "code",
   "execution_count": 18,
   "metadata": {},
   "outputs": [
    {
     "name": "stdout",
     "output_type": "stream",
     "text": [
      "Total Division Time is  0.2373650074005127\n",
      "Unit Division Time is  2.373650074005127e-07\n"
     ]
    }
   ],
   "source": [
    "#division time\n",
    "start_time,end_time=0,0\n",
    "start_time=time.time()\n",
    "div=1\n",
    "count=1000000\n",
    "for i in range(1,count+1):\n",
    "    div=8548457/9549385\n",
    "    \n",
    "end_time=time.time()\n",
    "total_divtime=end_time-start_time\n",
    "unit_div_time=total_divtime/count\n",
    "print(\"Total Division Time is \",total_divtime)\n",
    "print(\"Unit Division Time is \",unit_div_time)"
   ]
  },
  {
   "cell_type": "code",
   "execution_count": 12,
   "metadata": {},
   "outputs": [],
   "source": [
    "# print(\"Total count for Division : {}\".format(cntD+countD))\n",
    "# print(\"Total count for Multiplication : {}\".format(cntM+countM))\n",
    "# print(\"Total count for Addition or Subtraction : {}\".format(cntA+countA+cntS+countS))"
   ]
  },
  {
   "cell_type": "code",
   "execution_count": null,
   "metadata": {},
   "outputs": [],
   "source": []
  }
 ],
 "metadata": {
  "kernelspec": {
   "display_name": "Python 3",
   "language": "python",
   "name": "python3"
  },
  "language_info": {
   "codemirror_mode": {
    "name": "ipython",
    "version": 3
   },
   "file_extension": ".py",
   "mimetype": "text/x-python",
   "name": "python",
   "nbconvert_exporter": "python",
   "pygments_lexer": "ipython3",
   "version": "3.7.4"
  }
 },
 "nbformat": 4,
 "nbformat_minor": 2
}
