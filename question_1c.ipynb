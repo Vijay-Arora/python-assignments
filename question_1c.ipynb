{
 "cells": [
  {
   "cell_type": "markdown",
   "metadata": {},
   "source": [
    "# Gauss Elimination Without Pivoting"
   ]
  },
  {
   "cell_type": "code",
   "execution_count": 36,
   "metadata": {},
   "outputs": [],
   "source": [
    "from numpy import *"
   ]
  },
  {
   "cell_type": "code",
   "execution_count": 15,
   "metadata": {},
   "outputs": [
    {
     "name": "stdout",
     "output_type": "stream",
     "text": [
      "A : [[ 1.  2. -1.  2.]\n",
      " [-1.  1.  2.  1.]\n",
      " [ 2. -1.  2.  4.]\n",
      " [ 4. -6.  8.  7.]] \n",
      " b : [ 6  3 14  5] \n",
      " x : [0. 0. 0. 0.]\n"
     ]
    }
   ],
   "source": [
    "# A = array([[1,2,-1,2],\n",
    "#          [-1,1,2,1],\n",
    "#          [2,-1,2,4],\n",
    "#         [4,-6,8,7]],float)\n",
    "# b = array([6,3,14,5])\n",
    "# n = len(b)\n",
    "# x = zeros(n,float)\n",
    "# print(\"A : {0} \\n b : {1} \\n x : {2}\".format(A,b,x))"
   ]
  },
  {
   "cell_type": "code",
   "execution_count": 37,
   "metadata": {},
   "outputs": [
    {
     "name": "stdout",
     "output_type": "stream",
     "text": [
      "A : [[ 1.  2. -1.]\n",
      " [-1.  1.  2.]\n",
      " [ 2. -1.  2.]] \n",
      " b : [ 6  3 -4] \n",
      " x : [0. 0. 0.]\n"
     ]
    }
   ],
   "source": [
    "A = array([[1,2,-1],\n",
    "         [-1,1,2],\n",
    "         [2,-1,2]],float)\n",
    "b = array([6,3,-4])\n",
    "n = len(b)\n",
    "x = zeros(n,float)\n",
    "print(\"A : {0} \\n b : {1} \\n x : {2}\".format(A,b,x))"
   ]
  },
  {
   "cell_type": "markdown",
   "metadata": {},
   "source": [
    "### Forward Elimination"
   ]
  },
  {
   "cell_type": "code",
   "execution_count": 38,
   "metadata": {},
   "outputs": [
    {
     "name": "stdout",
     "output_type": "stream",
     "text": [
      "A = \n",
      "[[ 1.          2.         -1.        ]\n",
      " [ 0.          3.          1.        ]\n",
      " [ 0.          0.          5.66666667]] \n",
      " and \n",
      " b = \n",
      "[ 6  9 -1]\n",
      "\n",
      " Count for A : \n",
      " Division 3 \n",
      " Multiplication 11 \n",
      " Addition 11 \n",
      " Subtraction 0\n"
     ]
    }
   ],
   "source": [
    "countD,countM,countS,countA=0,0,0,0\n",
    "for k in range (0,n-1):             #row is k\n",
    "    for i in range(k+1,n):\n",
    "        factor=A[i,k] / A[k,k]\n",
    "        countD+=1\n",
    "        for j in range(k,n):\n",
    "            A[i,j]=A[i,j]-factor*A[k,j]\n",
    "            countM+=1\n",
    "            if (factor * A[i][k] > 0):\n",
    "                countS+=1\n",
    "            else:\n",
    "                countA+=1\n",
    "        b[i]=b[i]-factor*b[k]\n",
    "        countM+=1\n",
    "        if (factor * A[i][k] > 0):\n",
    "            countS+=1\n",
    "        else:\n",
    "            countA+=1\n",
    "print(\"A = \\n{0} \\n and \\n b = \\n{1}\".format(A,b))\n",
    "print(\"\\n Count for : \\n Division {0} \\n Multiplication {1} \\n Addition {2} \\n Subtraction {3}\".format(countD,countM,countA,countS))"
   ]
  },
  {
   "cell_type": "markdown",
   "metadata": {},
   "source": [
    "### Backward Substitution"
   ]
  },
  {
   "cell_type": "code",
   "execution_count": 44,
   "metadata": {},
   "outputs": [
    {
     "name": "stdout",
     "output_type": "stream",
     "text": [
      "\n",
      " Count for : \n",
      " Division 3 \n",
      " Count for Multiplication 3 \n",
      " Count for Addition 1 \n",
      " Count for Subtraction 2 \n",
      " Solution of system (x) : [-0.29411765  3.05882353 -0.17647059]\n",
      "\n"
     ]
    }
   ],
   "source": [
    "cntD,cntM,cntA,cntS=0,0,0,0\n",
    "x[n-1] = b[n-1]/A[n-1,n-1]\n",
    "cntD+=1\n",
    "for row in range(n-2,-1,-1):\n",
    "    sum = b[row]\n",
    "    for j in range(row+1,n):\n",
    "        sum-=A[row,j] * x[j]\n",
    "        cntM+=1\n",
    "        if (A[row,j] * x[j] > 0):\n",
    "            cntS+=1\n",
    "        else:\n",
    "            cntA+=1\n",
    "    x[row]=sum/A[row,row]\n",
    "    cntD+=1\n",
    "    \n",
    "print(\"\\n Count for : \\n Division {0} \\n Count for Multiplication {1} \\n Count for Addition {2} \\n Count for Subtraction {3} \\n Solution of system (x) : {4}\".format(cntD,cntM,cntA,cntS,x))\n",
    "print(\"\")\n"
   ]
  },
  {
   "cell_type": "code",
   "execution_count": 45,
   "metadata": {},
   "outputs": [
    {
     "name": "stdout",
     "output_type": "stream",
     "text": [
      "Total count for Division : 6\n",
      "Total count for Multiplication : 14\n",
      "Total count for Addition or Subtraction : 14\n"
     ]
    }
   ],
   "source": [
    "print(\"Total count for Division : {}\".format(cntD+countD))\n",
    "print(\"Total count for Multiplication : {}\".format(cntM+countM))\n",
    "print(\"Total count for Addition or Subtraction : {}\".format(cntA+countA+cntS+countS))"
   ]
  },
  {
   "cell_type": "code",
   "execution_count": 46,
   "metadata": {},
   "outputs": [
    {
     "data": {
      "text/plain": [
       "array([-0.29411765,  3.05882353, -0.17647059])"
      ]
     },
     "execution_count": 46,
     "metadata": {},
     "output_type": "execute_result"
    }
   ],
   "source": [
    "linalg.solve(A,b)"
   ]
  },
  {
   "cell_type": "code",
   "execution_count": null,
   "metadata": {},
   "outputs": [],
   "source": []
  }
 ],
 "metadata": {
  "kernelspec": {
   "display_name": "Python 3",
   "language": "python",
   "name": "python3"
  },
  "language_info": {
   "codemirror_mode": {
    "name": "ipython",
    "version": 3
   },
   "file_extension": ".py",
   "mimetype": "text/x-python",
   "name": "python",
   "nbconvert_exporter": "python",
   "pygments_lexer": "ipython3",
   "version": "3.7.4"
  }
 },
 "nbformat": 4,
 "nbformat_minor": 2
}
